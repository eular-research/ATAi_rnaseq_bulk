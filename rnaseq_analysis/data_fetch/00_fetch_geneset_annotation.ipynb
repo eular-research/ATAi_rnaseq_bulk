{
 "cells": [
  {
   "cell_type": "markdown",
   "metadata": {},
   "source": [
    "# Fetch genes by gene name or by keyword (disease)"
   ]
  },
  {
   "cell_type": "markdown",
   "metadata": {},
   "source": [
    "# Libraries"
   ]
  },
  {
   "cell_type": "code",
   "execution_count": null,
   "metadata": {
    "vscode": {
     "languageId": "r"
    }
   },
   "outputs": [
    {
     "name": "stderr",
     "output_type": "stream",
     "text": [
      "\n",
      "Attaching package: ‘dplyr’\n",
      "\n",
      "\n",
      "The following object is masked from ‘package:biomaRt’:\n",
      "\n",
      "    select\n",
      "\n",
      "\n",
      "The following objects are masked from ‘package:stats’:\n",
      "\n",
      "    filter, lag\n",
      "\n",
      "\n",
      "The following objects are masked from ‘package:base’:\n",
      "\n",
      "    intersect, setdiff, setequal, union\n",
      "\n",
      "\n"
     ]
    }
   ],
   "source": [
    "# Load the biomaRt package\n",
    "library(biomaRt)\n",
    "library(dplyr)\n",
    "library(stringr)\n",
    "\n"
   ]
  },
  {
   "cell_type": "markdown",
   "metadata": {},
   "source": [
    "# Get genes from Ensembl - search by name"
   ]
  },
  {
   "cell_type": "markdown",
   "metadata": {},
   "source": [
    "Connect to the Ensembl BioMart and list available filters and attibutes to find one related to phenotypes or disease descriptions:\n",
    "\n"
   ]
  },
  {
   "cell_type": "code",
   "execution_count": null,
   "metadata": {
    "vscode": {
     "languageId": "r"
    }
   },
   "outputs": [],
   "source": [
    "# Connect to  Ensembl BioMart \n",
    "ensembl <- useMart(\"ensembl\", dataset = \"hsapiens_gene_ensembl\") "
   ]
  },
  {
   "cell_type": "code",
   "execution_count": 3,
   "metadata": {
    "vscode": {
     "languageId": "r"
    }
   },
   "outputs": [],
   "source": [
    "# List available filters\n",
    "filters <- listFilters(ensembl)\n",
    "# filters\n",
    "\n",
    "# Search for filters containing the word \"description\"\n",
    "description_filters <- grep(\"phenotype\", filters$name, value = TRUE)\n",
    "\n",
    "# List available attributes\n",
    "attributes_all <- listAttributes(ensembl)\n"
   ]
  },
  {
   "cell_type": "markdown",
   "metadata": {},
   "source": [
    "Search ensembl for particular genes"
   ]
  },
  {
   "cell_type": "code",
   "execution_count": 4,
   "metadata": {
    "vscode": {
     "languageId": "r"
    }
   },
   "outputs": [],
   "source": [
    "# Define the keyword for ensembl gene id: \n",
    "arthritis_keyword <- \"ENSG00000236346\"\n",
    "\n",
    "# Construct the query to fetch genes related to arthritis\n",
    "genes_arthritis <- getBM(\n",
    "  attributes = c(\n",
    "   \"hgnc_symbol\", \n",
    "   \"ensembl_gene_id\", \n",
    "   \"description\", \n",
    "   \"chromosome_name\", \n",
    "   \"start_position\", \n",
    "   \"end_position\", \n",
    "   \"strand\",\n",
    "   \"phenotype_description\"\n",
    "  ),\n",
    "  # attributes = attributes_all[30:100,1] , \n",
    "  filters = \"ensembl_gene_id\", \n",
    "  values = arthritis_keyword, \n",
    "  mart = ensembl\n",
    ")\n"
   ]
  },
  {
   "cell_type": "code",
   "execution_count": 5,
   "metadata": {
    "vscode": {
     "languageId": "r"
    }
   },
   "outputs": [
    {
     "data": {
      "text/html": [
       "<table class=\"dataframe\">\n",
       "<caption>A data.frame: 1 × 8</caption>\n",
       "<thead>\n",
       "\t<tr><th scope=col>hgnc_symbol</th><th scope=col>ensembl_gene_id</th><th scope=col>description</th><th scope=col>chromosome_name</th><th scope=col>start_position</th><th scope=col>end_position</th><th scope=col>strand</th><th scope=col>phenotype_description</th></tr>\n",
       "\t<tr><th scope=col>&lt;chr&gt;</th><th scope=col>&lt;chr&gt;</th><th scope=col>&lt;chr&gt;</th><th scope=col>&lt;chr&gt;</th><th scope=col>&lt;int&gt;</th><th scope=col>&lt;int&gt;</th><th scope=col>&lt;int&gt;</th><th scope=col>&lt;chr&gt;</th></tr>\n",
       "</thead>\n",
       "<tbody>\n",
       "\t<tr><td>NFKBIL1</td><td>ENSG00000236346</td><td>NFKB inhibitor like 1 [Source:HGNC Symbol;Acc:HGNC:7800]</td><td>HSCHR6_MHC_SSTO_CTG1</td><td>2846154</td><td>2858110</td><td>1</td><td>Rheumatoid arthritis</td></tr>\n",
       "</tbody>\n",
       "</table>\n"
      ],
      "text/latex": [
       "A data.frame: 1 × 8\n",
       "\\begin{tabular}{llllllll}\n",
       " hgnc\\_symbol & ensembl\\_gene\\_id & description & chromosome\\_name & start\\_position & end\\_position & strand & phenotype\\_description\\\\\n",
       " <chr> & <chr> & <chr> & <chr> & <int> & <int> & <int> & <chr>\\\\\n",
       "\\hline\n",
       "\t NFKBIL1 & ENSG00000236346 & NFKB inhibitor like 1 {[}Source:HGNC Symbol;Acc:HGNC:7800{]} & HSCHR6\\_MHC\\_SSTO\\_CTG1 & 2846154 & 2858110 & 1 & Rheumatoid arthritis\\\\\n",
       "\\end{tabular}\n"
      ],
      "text/markdown": [
       "\n",
       "A data.frame: 1 × 8\n",
       "\n",
       "| hgnc_symbol &lt;chr&gt; | ensembl_gene_id &lt;chr&gt; | description &lt;chr&gt; | chromosome_name &lt;chr&gt; | start_position &lt;int&gt; | end_position &lt;int&gt; | strand &lt;int&gt; | phenotype_description &lt;chr&gt; |\n",
       "|---|---|---|---|---|---|---|---|\n",
       "| NFKBIL1 | ENSG00000236346 | NFKB inhibitor like 1 [Source:HGNC Symbol;Acc:HGNC:7800] | HSCHR6_MHC_SSTO_CTG1 | 2846154 | 2858110 | 1 | Rheumatoid arthritis |\n",
       "\n"
      ],
      "text/plain": [
       "  hgnc_symbol ensembl_gene_id\n",
       "1 NFKBIL1     ENSG00000236346\n",
       "  description                                              chromosome_name     \n",
       "1 NFKB inhibitor like 1 [Source:HGNC Symbol;Acc:HGNC:7800] HSCHR6_MHC_SSTO_CTG1\n",
       "  start_position end_position strand phenotype_description\n",
       "1 2846154        2858110      1      Rheumatoid arthritis "
      ]
     },
     "metadata": {},
     "output_type": "display_data"
    }
   ],
   "source": [
    "# Print the first few rows of the data\n",
    "genes_arthritis"
   ]
  },
  {
   "cell_type": "markdown",
   "metadata": {},
   "source": [
    "# Get genes from Ensembl - search by keyword\n",
    "\n",
    "The keyword can be disease name. There are two options:  A. ensembl filter option. B. Fetching whole human geneset and use \"dplyr and stringr\" to explore geneset. "
   ]
  },
  {
   "cell_type": "markdown",
   "metadata": {},
   "source": [
    "### A. Standard filter option"
   ]
  },
  {
   "cell_type": "code",
   "execution_count": 6,
   "metadata": {
    "vscode": {
     "languageId": "r"
    }
   },
   "outputs": [],
   "source": [
    "# Define the keyword for arthritis\n",
    "arthritis_keyword <- c(\"Rheumatoid arthritis\", \"Osteoarthritis\")\n",
    "\n",
    "# Construct the query to fetch genes related to arthritis\n",
    "genes_arthritis <- getBM(\n",
    "  attributes = c(\n",
    "   \"hgnc_symbol\", \n",
    "   \"ensembl_gene_id\", \n",
    "   \"description\", \n",
    "   \"chromosome_name\", \n",
    "   \"start_position\", \n",
    "   \"end_position\", \n",
    "   \"strand\",\n",
    "   \"phenotype_description\"\n",
    "  ),\n",
    "  # attributes = attributes_all[30:100,1] , \n",
    "  filters = \"phenotype_description\", \n",
    "  values = arthritis_keyword, \n",
    "  mart = ensembl\n",
    ")\n"
   ]
  },
  {
   "cell_type": "code",
   "execution_count": 7,
   "metadata": {
    "vscode": {
     "languageId": "r"
    }
   },
   "outputs": [
    {
     "data": {
      "text/html": [
       "<table class=\"dataframe\">\n",
       "<caption>A data.frame: 12 × 8</caption>\n",
       "<thead>\n",
       "\t<tr><th scope=col>hgnc_symbol</th><th scope=col>ensembl_gene_id</th><th scope=col>description</th><th scope=col>chromosome_name</th><th scope=col>start_position</th><th scope=col>end_position</th><th scope=col>strand</th><th scope=col>phenotype_description</th></tr>\n",
       "\t<tr><th scope=col>&lt;chr&gt;</th><th scope=col>&lt;chr&gt;</th><th scope=col>&lt;chr&gt;</th><th scope=col>&lt;chr&gt;</th><th scope=col>&lt;int&gt;</th><th scope=col>&lt;int&gt;</th><th scope=col>&lt;int&gt;</th><th scope=col>&lt;chr&gt;</th></tr>\n",
       "</thead>\n",
       "<tbody>\n",
       "\t<tr><td>NFKBIL1</td><td>ENSG00000236346</td><td>NFKB inhibitor like 1 [Source:HGNC Symbol;Acc:HGNC:7800]                                   </td><td>HSCHR6_MHC_SSTO_CTG1</td><td>  2846154</td><td>  2858110</td><td> 1</td><td>Rheumatoid arthritis</td></tr>\n",
       "\t<tr><td>NFKBIL1</td><td>ENSG00000227565</td><td>NFKB inhibitor like 1 [Source:HGNC Symbol;Acc:HGNC:7800]                                   </td><td>HSCHR6_MHC_MANN_CTG1</td><td>  2851919</td><td>  2863876</td><td> 1</td><td>Rheumatoid arthritis</td></tr>\n",
       "\t<tr><td>NFKBIL1</td><td>ENSG00000234530</td><td>NFKB inhibitor like 1 [Source:HGNC Symbol;Acc:HGNC:7800]                                   </td><td>HSCHR6_MHC_COX_CTG1 </td><td>  3024196</td><td>  3036142</td><td> 1</td><td>Rheumatoid arthritis</td></tr>\n",
       "\t<tr><td>NFKBIL1</td><td>ENSG00000235125</td><td>NFKB inhibitor like 1 [Source:HGNC Symbol;Acc:HGNC:7800]                                   </td><td>HSCHR6_MHC_MCF_CTG1 </td><td>  2888805</td><td>  2900754</td><td> 1</td><td>Rheumatoid arthritis</td></tr>\n",
       "\t<tr><td>NFKBIL1</td><td>ENSG00000206440</td><td>NFKB inhibitor like 1 [Source:HGNC Symbol;Acc:HGNC:7800]                                   </td><td>HSCHR6_MHC_QBL_CTG1 </td><td>  2802722</td><td>  2814673</td><td> 1</td><td>Rheumatoid arthritis</td></tr>\n",
       "\t<tr><td>NFKBIL1</td><td>ENSG00000236196</td><td>NFKB inhibitor like 1 [Source:HGNC Symbol;Acc:HGNC:7800]                                   </td><td>HSCHR6_MHC_DBB_CTG1 </td><td>  2794636</td><td>  2806586</td><td> 1</td><td>Rheumatoid arthritis</td></tr>\n",
       "\t<tr><td>NFKBIL1</td><td>ENSG00000204498</td><td>NFKB inhibitor like 1 [Source:HGNC Symbol;Acc:HGNC:7800]                                   </td><td>6                   </td><td> 31546870</td><td> 31558829</td><td> 1</td><td>Rheumatoid arthritis</td></tr>\n",
       "\t<tr><td>CIITA  </td><td>ENSG00000179583</td><td>class II major histocompatibility complex transactivator [Source:HGNC Symbol;Acc:HGNC:7067]</td><td>16                  </td><td> 10866222</td><td> 10943021</td><td> 1</td><td>Rheumatoid arthritis</td></tr>\n",
       "\t<tr><td>SLC22A4</td><td>ENSG00000197208</td><td>solute carrier family 22 member 4 [Source:HGNC Symbol;Acc:HGNC:10968]                      </td><td>5                   </td><td>132294394</td><td>132344190</td><td> 1</td><td>Rheumatoid arthritis</td></tr>\n",
       "\t<tr><td>IL10   </td><td>ENSG00000136634</td><td>interleukin 10 [Source:HGNC Symbol;Acc:HGNC:5962]                                          </td><td>1                   </td><td>206767602</td><td>206774541</td><td>-1</td><td>Rheumatoid arthritis</td></tr>\n",
       "\t<tr><td>PTPN22 </td><td>ENSG00000134242</td><td>protein tyrosine phosphatase non-receptor type 22 [Source:HGNC Symbol;Acc:HGNC:9652]       </td><td>1                   </td><td>113813811</td><td>113871753</td><td>-1</td><td>Rheumatoid arthritis</td></tr>\n",
       "\t<tr><td>CD244  </td><td>ENSG00000122223</td><td>CD244 molecule [Source:HGNC Symbol;Acc:HGNC:18171]                                         </td><td>1                   </td><td>160830160</td><td>160862887</td><td>-1</td><td>Rheumatoid arthritis</td></tr>\n",
       "</tbody>\n",
       "</table>\n"
      ],
      "text/latex": [
       "A data.frame: 12 × 8\n",
       "\\begin{tabular}{llllllll}\n",
       " hgnc\\_symbol & ensembl\\_gene\\_id & description & chromosome\\_name & start\\_position & end\\_position & strand & phenotype\\_description\\\\\n",
       " <chr> & <chr> & <chr> & <chr> & <int> & <int> & <int> & <chr>\\\\\n",
       "\\hline\n",
       "\t NFKBIL1 & ENSG00000236346 & NFKB inhibitor like 1 {[}Source:HGNC Symbol;Acc:HGNC:7800{]}                                    & HSCHR6\\_MHC\\_SSTO\\_CTG1 &   2846154 &   2858110 &  1 & Rheumatoid arthritis\\\\\n",
       "\t NFKBIL1 & ENSG00000227565 & NFKB inhibitor like 1 {[}Source:HGNC Symbol;Acc:HGNC:7800{]}                                    & HSCHR6\\_MHC\\_MANN\\_CTG1 &   2851919 &   2863876 &  1 & Rheumatoid arthritis\\\\\n",
       "\t NFKBIL1 & ENSG00000234530 & NFKB inhibitor like 1 {[}Source:HGNC Symbol;Acc:HGNC:7800{]}                                    & HSCHR6\\_MHC\\_COX\\_CTG1  &   3024196 &   3036142 &  1 & Rheumatoid arthritis\\\\\n",
       "\t NFKBIL1 & ENSG00000235125 & NFKB inhibitor like 1 {[}Source:HGNC Symbol;Acc:HGNC:7800{]}                                    & HSCHR6\\_MHC\\_MCF\\_CTG1  &   2888805 &   2900754 &  1 & Rheumatoid arthritis\\\\\n",
       "\t NFKBIL1 & ENSG00000206440 & NFKB inhibitor like 1 {[}Source:HGNC Symbol;Acc:HGNC:7800{]}                                    & HSCHR6\\_MHC\\_QBL\\_CTG1  &   2802722 &   2814673 &  1 & Rheumatoid arthritis\\\\\n",
       "\t NFKBIL1 & ENSG00000236196 & NFKB inhibitor like 1 {[}Source:HGNC Symbol;Acc:HGNC:7800{]}                                    & HSCHR6\\_MHC\\_DBB\\_CTG1  &   2794636 &   2806586 &  1 & Rheumatoid arthritis\\\\\n",
       "\t NFKBIL1 & ENSG00000204498 & NFKB inhibitor like 1 {[}Source:HGNC Symbol;Acc:HGNC:7800{]}                                    & 6                    &  31546870 &  31558829 &  1 & Rheumatoid arthritis\\\\\n",
       "\t CIITA   & ENSG00000179583 & class II major histocompatibility complex transactivator {[}Source:HGNC Symbol;Acc:HGNC:7067{]} & 16                   &  10866222 &  10943021 &  1 & Rheumatoid arthritis\\\\\n",
       "\t SLC22A4 & ENSG00000197208 & solute carrier family 22 member 4 {[}Source:HGNC Symbol;Acc:HGNC:10968{]}                       & 5                    & 132294394 & 132344190 &  1 & Rheumatoid arthritis\\\\\n",
       "\t IL10    & ENSG00000136634 & interleukin 10 {[}Source:HGNC Symbol;Acc:HGNC:5962{]}                                           & 1                    & 206767602 & 206774541 & -1 & Rheumatoid arthritis\\\\\n",
       "\t PTPN22  & ENSG00000134242 & protein tyrosine phosphatase non-receptor type 22 {[}Source:HGNC Symbol;Acc:HGNC:9652{]}        & 1                    & 113813811 & 113871753 & -1 & Rheumatoid arthritis\\\\\n",
       "\t CD244   & ENSG00000122223 & CD244 molecule {[}Source:HGNC Symbol;Acc:HGNC:18171{]}                                          & 1                    & 160830160 & 160862887 & -1 & Rheumatoid arthritis\\\\\n",
       "\\end{tabular}\n"
      ],
      "text/markdown": [
       "\n",
       "A data.frame: 12 × 8\n",
       "\n",
       "| hgnc_symbol &lt;chr&gt; | ensembl_gene_id &lt;chr&gt; | description &lt;chr&gt; | chromosome_name &lt;chr&gt; | start_position &lt;int&gt; | end_position &lt;int&gt; | strand &lt;int&gt; | phenotype_description &lt;chr&gt; |\n",
       "|---|---|---|---|---|---|---|---|\n",
       "| NFKBIL1 | ENSG00000236346 | NFKB inhibitor like 1 [Source:HGNC Symbol;Acc:HGNC:7800]                                    | HSCHR6_MHC_SSTO_CTG1 |   2846154 |   2858110 |  1 | Rheumatoid arthritis |\n",
       "| NFKBIL1 | ENSG00000227565 | NFKB inhibitor like 1 [Source:HGNC Symbol;Acc:HGNC:7800]                                    | HSCHR6_MHC_MANN_CTG1 |   2851919 |   2863876 |  1 | Rheumatoid arthritis |\n",
       "| NFKBIL1 | ENSG00000234530 | NFKB inhibitor like 1 [Source:HGNC Symbol;Acc:HGNC:7800]                                    | HSCHR6_MHC_COX_CTG1  |   3024196 |   3036142 |  1 | Rheumatoid arthritis |\n",
       "| NFKBIL1 | ENSG00000235125 | NFKB inhibitor like 1 [Source:HGNC Symbol;Acc:HGNC:7800]                                    | HSCHR6_MHC_MCF_CTG1  |   2888805 |   2900754 |  1 | Rheumatoid arthritis |\n",
       "| NFKBIL1 | ENSG00000206440 | NFKB inhibitor like 1 [Source:HGNC Symbol;Acc:HGNC:7800]                                    | HSCHR6_MHC_QBL_CTG1  |   2802722 |   2814673 |  1 | Rheumatoid arthritis |\n",
       "| NFKBIL1 | ENSG00000236196 | NFKB inhibitor like 1 [Source:HGNC Symbol;Acc:HGNC:7800]                                    | HSCHR6_MHC_DBB_CTG1  |   2794636 |   2806586 |  1 | Rheumatoid arthritis |\n",
       "| NFKBIL1 | ENSG00000204498 | NFKB inhibitor like 1 [Source:HGNC Symbol;Acc:HGNC:7800]                                    | 6                    |  31546870 |  31558829 |  1 | Rheumatoid arthritis |\n",
       "| CIITA   | ENSG00000179583 | class II major histocompatibility complex transactivator [Source:HGNC Symbol;Acc:HGNC:7067] | 16                   |  10866222 |  10943021 |  1 | Rheumatoid arthritis |\n",
       "| SLC22A4 | ENSG00000197208 | solute carrier family 22 member 4 [Source:HGNC Symbol;Acc:HGNC:10968]                       | 5                    | 132294394 | 132344190 |  1 | Rheumatoid arthritis |\n",
       "| IL10    | ENSG00000136634 | interleukin 10 [Source:HGNC Symbol;Acc:HGNC:5962]                                           | 1                    | 206767602 | 206774541 | -1 | Rheumatoid arthritis |\n",
       "| PTPN22  | ENSG00000134242 | protein tyrosine phosphatase non-receptor type 22 [Source:HGNC Symbol;Acc:HGNC:9652]        | 1                    | 113813811 | 113871753 | -1 | Rheumatoid arthritis |\n",
       "| CD244   | ENSG00000122223 | CD244 molecule [Source:HGNC Symbol;Acc:HGNC:18171]                                          | 1                    | 160830160 | 160862887 | -1 | Rheumatoid arthritis |\n",
       "\n"
      ],
      "text/plain": [
       "   hgnc_symbol ensembl_gene_id\n",
       "1  NFKBIL1     ENSG00000236346\n",
       "2  NFKBIL1     ENSG00000227565\n",
       "3  NFKBIL1     ENSG00000234530\n",
       "4  NFKBIL1     ENSG00000235125\n",
       "5  NFKBIL1     ENSG00000206440\n",
       "6  NFKBIL1     ENSG00000236196\n",
       "7  NFKBIL1     ENSG00000204498\n",
       "8  CIITA       ENSG00000179583\n",
       "9  SLC22A4     ENSG00000197208\n",
       "10 IL10        ENSG00000136634\n",
       "11 PTPN22      ENSG00000134242\n",
       "12 CD244       ENSG00000122223\n",
       "   description                                                                                \n",
       "1  NFKB inhibitor like 1 [Source:HGNC Symbol;Acc:HGNC:7800]                                   \n",
       "2  NFKB inhibitor like 1 [Source:HGNC Symbol;Acc:HGNC:7800]                                   \n",
       "3  NFKB inhibitor like 1 [Source:HGNC Symbol;Acc:HGNC:7800]                                   \n",
       "4  NFKB inhibitor like 1 [Source:HGNC Symbol;Acc:HGNC:7800]                                   \n",
       "5  NFKB inhibitor like 1 [Source:HGNC Symbol;Acc:HGNC:7800]                                   \n",
       "6  NFKB inhibitor like 1 [Source:HGNC Symbol;Acc:HGNC:7800]                                   \n",
       "7  NFKB inhibitor like 1 [Source:HGNC Symbol;Acc:HGNC:7800]                                   \n",
       "8  class II major histocompatibility complex transactivator [Source:HGNC Symbol;Acc:HGNC:7067]\n",
       "9  solute carrier family 22 member 4 [Source:HGNC Symbol;Acc:HGNC:10968]                      \n",
       "10 interleukin 10 [Source:HGNC Symbol;Acc:HGNC:5962]                                          \n",
       "11 protein tyrosine phosphatase non-receptor type 22 [Source:HGNC Symbol;Acc:HGNC:9652]       \n",
       "12 CD244 molecule [Source:HGNC Symbol;Acc:HGNC:18171]                                         \n",
       "   chromosome_name      start_position end_position strand\n",
       "1  HSCHR6_MHC_SSTO_CTG1   2846154        2858110     1    \n",
       "2  HSCHR6_MHC_MANN_CTG1   2851919        2863876     1    \n",
       "3  HSCHR6_MHC_COX_CTG1    3024196        3036142     1    \n",
       "4  HSCHR6_MHC_MCF_CTG1    2888805        2900754     1    \n",
       "5  HSCHR6_MHC_QBL_CTG1    2802722        2814673     1    \n",
       "6  HSCHR6_MHC_DBB_CTG1    2794636        2806586     1    \n",
       "7  6                     31546870       31558829     1    \n",
       "8  16                    10866222       10943021     1    \n",
       "9  5                    132294394      132344190     1    \n",
       "10 1                    206767602      206774541    -1    \n",
       "11 1                    113813811      113871753    -1    \n",
       "12 1                    160830160      160862887    -1    \n",
       "   phenotype_description\n",
       "1  Rheumatoid arthritis \n",
       "2  Rheumatoid arthritis \n",
       "3  Rheumatoid arthritis \n",
       "4  Rheumatoid arthritis \n",
       "5  Rheumatoid arthritis \n",
       "6  Rheumatoid arthritis \n",
       "7  Rheumatoid arthritis \n",
       "8  Rheumatoid arthritis \n",
       "9  Rheumatoid arthritis \n",
       "10 Rheumatoid arthritis \n",
       "11 Rheumatoid arthritis \n",
       "12 Rheumatoid arthritis "
      ]
     },
     "metadata": {},
     "output_type": "display_data"
    }
   ],
   "source": [
    "genes_arthritis"
   ]
  },
  {
   "cell_type": "markdown",
   "metadata": {},
   "source": [
    "### B. Get whole gene set and filter with R dplyr methods"
   ]
  },
  {
   "cell_type": "code",
   "execution_count": 8,
   "metadata": {
    "vscode": {
     "languageId": "r"
    }
   },
   "outputs": [
    {
     "name": "stdout",
     "output_type": "stream",
     "text": [
      "   hgnc_symbol ensembl_gene_id\n",
      "1        PTPN2 ENSG00000175354\n",
      "2        PTPN2 ENSG00000175354\n",
      "3        LACC1 ENSG00000179630\n",
      "4       IL10RB ENSG00000243646\n",
      "5          MIF ENSG00000240972\n",
      "6        IL2RB ENSG00000100385\n",
      "7        IL2RB ENSG00000100385\n",
      "8         ACAN ENSG00000157766\n",
      "9         ACAN ENSG00000157766\n",
      "10       RIPK1 ENSG00000137275\n",
      "11     NFKBIL1 ENSG00000236346\n",
      "12     NFKBIL1 ENSG00000227565\n",
      "13       IL2RA ENSG00000134460\n",
      "14       IL2RA ENSG00000134460\n",
      "15     NFKBIL1 ENSG00000234530\n",
      "16      COL2A1 ENSG00000139219\n",
      "17     NFKBIL1 ENSG00000235125\n",
      "18     NFKBIL1 ENSG00000206440\n",
      "19     NFKBIL1 ENSG00000236196\n",
      "20     ANKRD55 ENSG00000164512\n",
      "21     ANKRD55 ENSG00000164512\n",
      "22       HLA-B ENSG00000234745\n",
      "23     NFKBIL1 ENSG00000204498\n",
      "24       CIITA ENSG00000179583\n",
      "25         TNF ENSG00000232810\n",
      "26         IL6 ENSG00000136244\n",
      "27    HLA-DRB1 ENSG00000196126\n",
      "28    HLA-DRB1 ENSG00000196126\n",
      "29       SMAD3 ENSG00000166949\n",
      "30     SLC22A4 ENSG00000197208\n",
      "31      IL10RA ENSG00000110324\n",
      "32        COPA ENSG00000122218\n",
      "33        IL10 ENSG00000136634\n",
      "34        IL10 ENSG00000136634\n",
      "35      PTPN22 ENSG00000134242\n",
      "36      PTPN22 ENSG00000134242\n",
      "37      PTPN22 ENSG00000134242\n",
      "38       CD247 ENSG00000198821\n",
      "39       CD247 ENSG00000198821\n",
      "40       STAT4 ENSG00000138378\n",
      "41       STAT4 ENSG00000138378\n",
      "42       CD244 ENSG00000122223\n",
      "                                                                                   description\n",
      "1          protein tyrosine phosphatase non-receptor type 2 [Source:HGNC Symbol;Acc:HGNC:9650]\n",
      "2          protein tyrosine phosphatase non-receptor type 2 [Source:HGNC Symbol;Acc:HGNC:9650]\n",
      "3                              laccase domain containing 1 [Source:HGNC Symbol;Acc:HGNC:26789]\n",
      "4                      interleukin 10 receptor subunit beta [Source:HGNC Symbol;Acc:HGNC:5965]\n",
      "5                    macrophage migration inhibitory factor [Source:HGNC Symbol;Acc:HGNC:7097]\n",
      "6                       interleukin 2 receptor subunit beta [Source:HGNC Symbol;Acc:HGNC:6009]\n",
      "7                       interleukin 2 receptor subunit beta [Source:HGNC Symbol;Acc:HGNC:6009]\n",
      "8                                                   aggrecan [Source:HGNC Symbol;Acc:HGNC:319]\n",
      "9                                                   aggrecan [Source:HGNC Symbol;Acc:HGNC:319]\n",
      "10          receptor interacting serine/threonine kinase 1 [Source:HGNC Symbol;Acc:HGNC:10019]\n",
      "11                                    NFKB inhibitor like 1 [Source:HGNC Symbol;Acc:HGNC:7800]\n",
      "12                                    NFKB inhibitor like 1 [Source:HGNC Symbol;Acc:HGNC:7800]\n",
      "13                     interleukin 2 receptor subunit alpha [Source:HGNC Symbol;Acc:HGNC:6008]\n",
      "14                     interleukin 2 receptor subunit alpha [Source:HGNC Symbol;Acc:HGNC:6008]\n",
      "15                                    NFKB inhibitor like 1 [Source:HGNC Symbol;Acc:HGNC:7800]\n",
      "16                           collagen type II alpha 1 chain [Source:HGNC Symbol;Acc:HGNC:2200]\n",
      "17                                    NFKB inhibitor like 1 [Source:HGNC Symbol;Acc:HGNC:7800]\n",
      "18                                    NFKB inhibitor like 1 [Source:HGNC Symbol;Acc:HGNC:7800]\n",
      "19                                    NFKB inhibitor like 1 [Source:HGNC Symbol;Acc:HGNC:7800]\n",
      "20                                ankyrin repeat domain 55 [Source:HGNC Symbol;Acc:HGNC:25681]\n",
      "21                                ankyrin repeat domain 55 [Source:HGNC Symbol;Acc:HGNC:25681]\n",
      "22             major histocompatibility complex, class I, B [Source:HGNC Symbol;Acc:HGNC:4932]\n",
      "23                                    NFKB inhibitor like 1 [Source:HGNC Symbol;Acc:HGNC:7800]\n",
      "24 class II major histocompatibility complex transactivator [Source:HGNC Symbol;Acc:HGNC:7067]\n",
      "25                                   tumor necrosis factor [Source:HGNC Symbol;Acc:HGNC:11892]\n",
      "26                                            interleukin 6 [Source:HGNC Symbol;Acc:HGNC:6018]\n",
      "27    major histocompatibility complex, class II, DR beta 1 [Source:HGNC Symbol;Acc:HGNC:4948]\n",
      "28    major histocompatibility complex, class II, DR beta 1 [Source:HGNC Symbol;Acc:HGNC:4948]\n",
      "29                                     SMAD family member 3 [Source:HGNC Symbol;Acc:HGNC:6769]\n",
      "30                       solute carrier family 22 member 4 [Source:HGNC Symbol;Acc:HGNC:10968]\n",
      "31                    interleukin 10 receptor subunit alpha [Source:HGNC Symbol;Acc:HGNC:5964]\n",
      "32                          COPI coat complex subunit alpha [Source:HGNC Symbol;Acc:HGNC:2230]\n",
      "33                                           interleukin 10 [Source:HGNC Symbol;Acc:HGNC:5962]\n",
      "34                                           interleukin 10 [Source:HGNC Symbol;Acc:HGNC:5962]\n",
      "35        protein tyrosine phosphatase non-receptor type 22 [Source:HGNC Symbol;Acc:HGNC:9652]\n",
      "36        protein tyrosine phosphatase non-receptor type 22 [Source:HGNC Symbol;Acc:HGNC:9652]\n",
      "37        protein tyrosine phosphatase non-receptor type 22 [Source:HGNC Symbol;Acc:HGNC:9652]\n",
      "38                                           CD247 molecule [Source:HGNC Symbol;Acc:HGNC:1677]\n",
      "39                                           CD247 molecule [Source:HGNC Symbol;Acc:HGNC:1677]\n",
      "40      signal transducer and activator of transcription 4 [Source:HGNC Symbol;Acc:HGNC:11365]\n",
      "41      signal transducer and activator of transcription 4 [Source:HGNC Symbol;Acc:HGNC:11365]\n",
      "42                                          CD244 molecule [Source:HGNC Symbol;Acc:HGNC:18171]\n",
      "        chromosome_name start_position end_position strand\n",
      "1                    18       12785478     12929643     -1\n",
      "2                    18       12785478     12929643     -1\n",
      "3                    13       43879284     43893932      1\n",
      "4                    21       33266367     33311420      1\n",
      "5                    22       23894383     23895227      1\n",
      "6                    22       37118666     37175118     -1\n",
      "7                    22       37118666     37175118     -1\n",
      "8                    15       88803436     88875353      1\n",
      "9                    15       88803436     88875353      1\n",
      "10                    6        3063824      3115187      1\n",
      "11 HSCHR6_MHC_SSTO_CTG1        2846154      2858110      1\n",
      "12 HSCHR6_MHC_MANN_CTG1        2851919      2863876      1\n",
      "13                   10        6010689      6062370     -1\n",
      "14                   10        6010689      6062370     -1\n",
      "15  HSCHR6_MHC_COX_CTG1        3024196      3036142      1\n",
      "16                   12       47972967     48004554     -1\n",
      "17  HSCHR6_MHC_MCF_CTG1        2888805      2900754      1\n",
      "18  HSCHR6_MHC_QBL_CTG1        2802722      2814673      1\n",
      "19  HSCHR6_MHC_DBB_CTG1        2794636      2806586      1\n",
      "20                    5       56099680     56233330     -1\n",
      "21                    5       56099680     56233330     -1\n",
      "22                    6       31353872     31367067     -1\n",
      "23                    6       31546870     31558829      1\n",
      "24                   16       10866222     10943021      1\n",
      "25                    6       31575565     31578336      1\n",
      "26                    7       22725884     22732002      1\n",
      "27                    6       32577902     32589848     -1\n",
      "28                    6       32577902     32589848     -1\n",
      "29                   15       67063763     67195173      1\n",
      "30                    5      132294394    132344190      1\n",
      "31                   11      117986370    118003037      1\n",
      "32                    1      160288594    160343566     -1\n",
      "33                    1      206767602    206774541     -1\n",
      "34                    1      206767602    206774541     -1\n",
      "35                    1      113813811    113871753     -1\n",
      "36                    1      113813811    113871753     -1\n",
      "37                    1      113813811    113871753     -1\n",
      "38                    1      167425027    167518640     -1\n",
      "39                    1      167425027    167518640     -1\n",
      "40                    2      191029576    191178435     -1\n",
      "41                    2      191029576    191178435     -1\n",
      "42                    1      160830160    160862887     -1\n",
      "                                                                                             phenotype_description\n",
      "1                                                                     Oligoarticular juvenile idiopathic arthritis\n",
      "2                                           Rheumatoid factor-negative polyarticular juvenile idiopathic arthritis\n",
      "3                                                                     Systemic-onset juvenile idiopathic arthritis\n",
      "4                          Immune dysregulation-inflammatory bowel disease-arthritis-recurrent infections syndrome\n",
      "5                                                                     Systemic-onset juvenile idiopathic arthritis\n",
      "6                                                                     Oligoarticular juvenile idiopathic arthritis\n",
      "7                                           Rheumatoid factor-negative polyarticular juvenile idiopathic arthritis\n",
      "8                                              Short stature-advanced bone age-early onset osteoarthritis syndrome\n",
      "9  Short stature and advanced bone age with or without early-onset osteoarthritis and/or osteochondritis dissecans\n",
      "10             Immune dysregulation-inflammatory bowel disease-arthritis-recurrent infections-lymphopenia syndrome\n",
      "11                                                                                            Rheumatoid arthritis\n",
      "12                                                                                            Rheumatoid arthritis\n",
      "13                                                                    Oligoarticular juvenile idiopathic arthritis\n",
      "14                                          Rheumatoid factor-negative polyarticular juvenile idiopathic arthritis\n",
      "15                                                                                            Rheumatoid arthritis\n",
      "16                        Mild spondyloepiphyseal dysplasia due to COL2A1 mutation with early-onset osteoarthritis\n",
      "17                                                                                            Rheumatoid arthritis\n",
      "18                                                                                            Rheumatoid arthritis\n",
      "19                                                                                            Rheumatoid arthritis\n",
      "20                                                                    Oligoarticular juvenile idiopathic arthritis\n",
      "21                                          Rheumatoid factor-negative polyarticular juvenile idiopathic arthritis\n",
      "22                                                                                              Reactive arthritis\n",
      "23                                                                                            Rheumatoid arthritis\n",
      "24                                                                                            Rheumatoid arthritis\n",
      "25                                                                         NON RARE IN EUROPE: Psoriatic arthritis\n",
      "26                                                                    Systemic-onset juvenile idiopathic arthritis\n",
      "27                                                                        NON RARE IN EUROPE: Rheumatoid arthritis\n",
      "28                                                                    Systemic-onset juvenile idiopathic arthritis\n",
      "29                                                                                Aneurysm-osteoarthritis syndrome\n",
      "30                                                                                            Rheumatoid arthritis\n",
      "31                         Immune dysregulation-inflammatory bowel disease-arthritis-recurrent infections syndrome\n",
      "32                                                         Autoimmune interstitial lung disease-arthritis syndrome\n",
      "33                         Immune dysregulation-inflammatory bowel disease-arthritis-recurrent infections syndrome\n",
      "34                                                                                            Rheumatoid arthritis\n",
      "35                                                                    Oligoarticular juvenile idiopathic arthritis\n",
      "36                                          Rheumatoid factor-negative polyarticular juvenile idiopathic arthritis\n",
      "37                                                                                            Rheumatoid arthritis\n",
      "38                                                                    Oligoarticular juvenile idiopathic arthritis\n",
      "39                                          Rheumatoid factor-negative polyarticular juvenile idiopathic arthritis\n",
      "40                                                                    Oligoarticular juvenile idiopathic arthritis\n",
      "41                                          Rheumatoid factor-negative polyarticular juvenile idiopathic arthritis\n",
      "42                                                                                            Rheumatoid arthritis\n"
     ]
    }
   ],
   "source": [
    "# filter from whole gene list with dplyr and stringr\n",
    "genes_arthritis <- getBM(\n",
    "  attributes = c(\n",
    "   \"hgnc_symbol\", \n",
    "   \"ensembl_gene_id\", \n",
    "   \"description\", \n",
    "   \"chromosome_name\", \n",
    "   \"start_position\", \n",
    "   \"end_position\", \n",
    "   \"strand\",\n",
    "   \"phenotype_description\"\n",
    "  ),\n",
    "  mart = ensembl\n",
    ")\n",
    "\n",
    "# Define the keyword for arthritis\n",
    "arthritis_keyword <- \"arthritis\"\n",
    "\n",
    "# Filter the data frame using dplyr and stringr\n",
    "genes_arthritis_filtered <- genes_arthritis %>%\n",
    "  filter(str_detect(phenotype_description, arthritis_keyword))\n",
    "\n",
    "# Print the filtered results\n",
    "print(genes_arthritis_filtered)\n"
   ]
  }
 ],
 "metadata": {
  "kernelspec": {
   "display_name": "R",
   "language": "R",
   "name": "ir"
  },
  "language_info": {
   "codemirror_mode": "r",
   "file_extension": ".r",
   "mimetype": "text/x-r-source",
   "name": "R",
   "pygments_lexer": "r",
   "version": "4.3.3"
  }
 },
 "nbformat": 4,
 "nbformat_minor": 2
}
