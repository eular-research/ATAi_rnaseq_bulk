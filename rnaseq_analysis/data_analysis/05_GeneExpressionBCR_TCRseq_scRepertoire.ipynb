{
 "cells": [
  {
   "cell_type": "code",
   "execution_count": 1,
   "metadata": {
    "vscode": {
     "languageId": "r"
    }
   },
   "outputs": [],
   "source": [
    "suppressMessages(library(scRepertoire))\n",
    "suppressMessages(library(Seurat))\n"
   ]
  },
  {
   "cell_type": "markdown",
   "metadata": {},
   "source": [
    "# under construction # \n",
    "\n",
    "-Combine TCR/BCR data from multiple samples (if you have more than one). \n",
    "\n",
    "-Integrate with single-cell RNA-seq data (if you have scRNA-seq data available).\n",
    "\n",
    "-Visualize clonal diversity and clonal expansion.\n",
    "\n",
    "-Analyze clonotype tracking across conditions or time points.\n",
    "\n",
    "-Explore repertoire overlap between samples.\n",
    "\n",
    "-Advanced analysis such as gene usage and TCR/BCR annotation.\n",
    "\n",
    "https://github.com/ncborcherding/scRepertoire?tab=readme-ov-file\n",
    "https://www.borch.dev/uploads/screpertoire/\n",
    "\n"
   ]
  },
  {
   "cell_type": "code",
   "execution_count": 2,
   "metadata": {
    "vscode": {
     "languageId": "r"
    }
   },
   "outputs": [
    {
     "data": {
      "text/html": [
       "<table class=\"dataframe\">\n",
       "<caption>A data.frame: 6 × 18</caption>\n",
       "<thead>\n",
       "\t<tr><th></th><th scope=col>barcode</th><th scope=col>is_cell</th><th scope=col>contig_id</th><th scope=col>high_confidence</th><th scope=col>length</th><th scope=col>chain</th><th scope=col>v_gene</th><th scope=col>d_gene</th><th scope=col>j_gene</th><th scope=col>c_gene</th><th scope=col>full_length</th><th scope=col>productive</th><th scope=col>cdr3</th><th scope=col>cdr3_nt</th><th scope=col>reads</th><th scope=col>umis</th><th scope=col>raw_clonotype_id</th><th scope=col>raw_consensus_id</th></tr>\n",
       "\t<tr><th></th><th scope=col>&lt;chr&gt;</th><th scope=col>&lt;chr&gt;</th><th scope=col>&lt;chr&gt;</th><th scope=col>&lt;chr&gt;</th><th scope=col>&lt;int&gt;</th><th scope=col>&lt;chr&gt;</th><th scope=col>&lt;chr&gt;</th><th scope=col>&lt;chr&gt;</th><th scope=col>&lt;chr&gt;</th><th scope=col>&lt;chr&gt;</th><th scope=col>&lt;chr&gt;</th><th scope=col>&lt;chr&gt;</th><th scope=col>&lt;chr&gt;</th><th scope=col>&lt;chr&gt;</th><th scope=col>&lt;int&gt;</th><th scope=col>&lt;int&gt;</th><th scope=col>&lt;chr&gt;</th><th scope=col>&lt;chr&gt;</th></tr>\n",
       "</thead>\n",
       "<tbody>\n",
       "\t<tr><th scope=row>1</th><td>AAACCTGAGTACGACG-1</td><td>True</td><td>AAACCTGAGTACGACG-1_contig_1</td><td>True</td><td>500</td><td>TRA</td><td>TRAV25      </td><td>None</td><td>TRAJ20 </td><td>TRAC </td><td>True</td><td>True</td><td>CGCSNDYKLSF       </td><td>TGTGGGTGTTCTAACGACTACAAGCTCAGCTTT                     </td><td> 8344</td><td> 4</td><td>clonotype123</td><td>clonotype123_consensus_2</td></tr>\n",
       "\t<tr><th scope=row>2</th><td>AAACCTGAGTACGACG-1</td><td>True</td><td>AAACCTGAGTACGACG-1_contig_2</td><td>True</td><td>478</td><td>TRB</td><td>TRBV5-1     </td><td>None</td><td>TRBJ2-7</td><td>TRBC2</td><td>True</td><td>True</td><td>CASSLTDRTYEQYF    </td><td>TGCGCCAGCAGCTTGACCGACAGGACCTACGAGCAGTACTTC            </td><td>65390</td><td>38</td><td>clonotype123</td><td>clonotype123_consensus_1</td></tr>\n",
       "\t<tr><th scope=row>4</th><td>AAACCTGCAACACGCC-1</td><td>True</td><td>AAACCTGCAACACGCC-1_contig_1</td><td>True</td><td>506</td><td>TRA</td><td>TRAV38-2/DV8</td><td>None</td><td>TRAJ52 </td><td>TRAC </td><td>True</td><td>True</td><td>CAYRSAQAGGTSYGKLTF</td><td>TGTGCTTATAGGAGCGCGCAGGCTGGTGGTACTAGCTATGGAAAGCTGACATTT</td><td>18372</td><td> 8</td><td>clonotype124</td><td>clonotype124_consensus_1</td></tr>\n",
       "\t<tr><th scope=row>5</th><td>AAACCTGCAACACGCC-1</td><td>True</td><td>AAACCTGCAACACGCC-1_contig_2</td><td>True</td><td>470</td><td>TRB</td><td>TRBV10-3    </td><td>None</td><td>TRBJ2-2</td><td>TRBC2</td><td>True</td><td>True</td><td>CAISEQGKGELFF     </td><td>TGTGCCATCAGTGAACAGGGGAAAGGGGAGCTGTTTTTT               </td><td>34054</td><td> 9</td><td>clonotype124</td><td>clonotype124_consensus_2</td></tr>\n",
       "\t<tr><th scope=row>6</th><td>AAACCTGCAGGCGATA-1</td><td>True</td><td>AAACCTGCAGGCGATA-1_contig_1</td><td>True</td><td>558</td><td>TRA</td><td>TRAV12-1    </td><td>None</td><td>TRAJ9  </td><td>TRAC </td><td>True</td><td>True</td><td>CVVSDNTGGFKTIF    </td><td>TGTGTGGTCTCCGATAATACTGGAGGCTTCAAAACTATCTTT            </td><td> 5018</td><td> 2</td><td>clonotype1  </td><td>clonotype1_consensus_2  </td></tr>\n",
       "\t<tr><th scope=row>7</th><td>AAACCTGCAGGCGATA-1</td><td>True</td><td>AAACCTGCAGGCGATA-1_contig_2</td><td>True</td><td>505</td><td>TRB</td><td>TRBV9       </td><td>None</td><td>TRBJ2-2</td><td>TRBC2</td><td>True</td><td>True</td><td>CASSVRRERANTGELFF </td><td>TGTGCCAGCAGCGTAAGGAGGGAAAGGGCGAACACCGGGGAGCTGTTTTTT   </td><td>25110</td><td>11</td><td>clonotype1  </td><td>clonotype1_consensus_1  </td></tr>\n",
       "</tbody>\n",
       "</table>\n"
      ],
      "text/latex": [
       "A data.frame: 6 × 18\n",
       "\\begin{tabular}{r|llllllllllllllllll}\n",
       "  & barcode & is\\_cell & contig\\_id & high\\_confidence & length & chain & v\\_gene & d\\_gene & j\\_gene & c\\_gene & full\\_length & productive & cdr3 & cdr3\\_nt & reads & umis & raw\\_clonotype\\_id & raw\\_consensus\\_id\\\\\n",
       "  & <chr> & <chr> & <chr> & <chr> & <int> & <chr> & <chr> & <chr> & <chr> & <chr> & <chr> & <chr> & <chr> & <chr> & <int> & <int> & <chr> & <chr>\\\\\n",
       "\\hline\n",
       "\t1 & AAACCTGAGTACGACG-1 & True & AAACCTGAGTACGACG-1\\_contig\\_1 & True & 500 & TRA & TRAV25       & None & TRAJ20  & TRAC  & True & True & CGCSNDYKLSF        & TGTGGGTGTTCTAACGACTACAAGCTCAGCTTT                      &  8344 &  4 & clonotype123 & clonotype123\\_consensus\\_2\\\\\n",
       "\t2 & AAACCTGAGTACGACG-1 & True & AAACCTGAGTACGACG-1\\_contig\\_2 & True & 478 & TRB & TRBV5-1      & None & TRBJ2-7 & TRBC2 & True & True & CASSLTDRTYEQYF     & TGCGCCAGCAGCTTGACCGACAGGACCTACGAGCAGTACTTC             & 65390 & 38 & clonotype123 & clonotype123\\_consensus\\_1\\\\\n",
       "\t4 & AAACCTGCAACACGCC-1 & True & AAACCTGCAACACGCC-1\\_contig\\_1 & True & 506 & TRA & TRAV38-2/DV8 & None & TRAJ52  & TRAC  & True & True & CAYRSAQAGGTSYGKLTF & TGTGCTTATAGGAGCGCGCAGGCTGGTGGTACTAGCTATGGAAAGCTGACATTT & 18372 &  8 & clonotype124 & clonotype124\\_consensus\\_1\\\\\n",
       "\t5 & AAACCTGCAACACGCC-1 & True & AAACCTGCAACACGCC-1\\_contig\\_2 & True & 470 & TRB & TRBV10-3     & None & TRBJ2-2 & TRBC2 & True & True & CAISEQGKGELFF      & TGTGCCATCAGTGAACAGGGGAAAGGGGAGCTGTTTTTT                & 34054 &  9 & clonotype124 & clonotype124\\_consensus\\_2\\\\\n",
       "\t6 & AAACCTGCAGGCGATA-1 & True & AAACCTGCAGGCGATA-1\\_contig\\_1 & True & 558 & TRA & TRAV12-1     & None & TRAJ9   & TRAC  & True & True & CVVSDNTGGFKTIF     & TGTGTGGTCTCCGATAATACTGGAGGCTTCAAAACTATCTTT             &  5018 &  2 & clonotype1   & clonotype1\\_consensus\\_2  \\\\\n",
       "\t7 & AAACCTGCAGGCGATA-1 & True & AAACCTGCAGGCGATA-1\\_contig\\_2 & True & 505 & TRB & TRBV9        & None & TRBJ2-2 & TRBC2 & True & True & CASSVRRERANTGELFF  & TGTGCCAGCAGCGTAAGGAGGGAAAGGGCGAACACCGGGGAGCTGTTTTTT    & 25110 & 11 & clonotype1   & clonotype1\\_consensus\\_1  \\\\\n",
       "\\end{tabular}\n"
      ],
      "text/markdown": [
       "\n",
       "A data.frame: 6 × 18\n",
       "\n",
       "| <!--/--> | barcode &lt;chr&gt; | is_cell &lt;chr&gt; | contig_id &lt;chr&gt; | high_confidence &lt;chr&gt; | length &lt;int&gt; | chain &lt;chr&gt; | v_gene &lt;chr&gt; | d_gene &lt;chr&gt; | j_gene &lt;chr&gt; | c_gene &lt;chr&gt; | full_length &lt;chr&gt; | productive &lt;chr&gt; | cdr3 &lt;chr&gt; | cdr3_nt &lt;chr&gt; | reads &lt;int&gt; | umis &lt;int&gt; | raw_clonotype_id &lt;chr&gt; | raw_consensus_id &lt;chr&gt; |\n",
       "|---|---|---|---|---|---|---|---|---|---|---|---|---|---|---|---|---|---|---|\n",
       "| 1 | AAACCTGAGTACGACG-1 | True | AAACCTGAGTACGACG-1_contig_1 | True | 500 | TRA | TRAV25       | None | TRAJ20  | TRAC  | True | True | CGCSNDYKLSF        | TGTGGGTGTTCTAACGACTACAAGCTCAGCTTT                      |  8344 |  4 | clonotype123 | clonotype123_consensus_2 |\n",
       "| 2 | AAACCTGAGTACGACG-1 | True | AAACCTGAGTACGACG-1_contig_2 | True | 478 | TRB | TRBV5-1      | None | TRBJ2-7 | TRBC2 | True | True | CASSLTDRTYEQYF     | TGCGCCAGCAGCTTGACCGACAGGACCTACGAGCAGTACTTC             | 65390 | 38 | clonotype123 | clonotype123_consensus_1 |\n",
       "| 4 | AAACCTGCAACACGCC-1 | True | AAACCTGCAACACGCC-1_contig_1 | True | 506 | TRA | TRAV38-2/DV8 | None | TRAJ52  | TRAC  | True | True | CAYRSAQAGGTSYGKLTF | TGTGCTTATAGGAGCGCGCAGGCTGGTGGTACTAGCTATGGAAAGCTGACATTT | 18372 |  8 | clonotype124 | clonotype124_consensus_1 |\n",
       "| 5 | AAACCTGCAACACGCC-1 | True | AAACCTGCAACACGCC-1_contig_2 | True | 470 | TRB | TRBV10-3     | None | TRBJ2-2 | TRBC2 | True | True | CAISEQGKGELFF      | TGTGCCATCAGTGAACAGGGGAAAGGGGAGCTGTTTTTT                | 34054 |  9 | clonotype124 | clonotype124_consensus_2 |\n",
       "| 6 | AAACCTGCAGGCGATA-1 | True | AAACCTGCAGGCGATA-1_contig_1 | True | 558 | TRA | TRAV12-1     | None | TRAJ9   | TRAC  | True | True | CVVSDNTGGFKTIF     | TGTGTGGTCTCCGATAATACTGGAGGCTTCAAAACTATCTTT             |  5018 |  2 | clonotype1   | clonotype1_consensus_2   |\n",
       "| 7 | AAACCTGCAGGCGATA-1 | True | AAACCTGCAGGCGATA-1_contig_2 | True | 505 | TRB | TRBV9        | None | TRBJ2-2 | TRBC2 | True | True | CASSVRRERANTGELFF  | TGTGCCAGCAGCGTAAGGAGGGAAAGGGCGAACACCGGGGAGCTGTTTTTT    | 25110 | 11 | clonotype1   | clonotype1_consensus_1   |\n",
       "\n"
      ],
      "text/plain": [
       "  barcode            is_cell contig_id                   high_confidence length\n",
       "1 AAACCTGAGTACGACG-1 True    AAACCTGAGTACGACG-1_contig_1 True            500   \n",
       "2 AAACCTGAGTACGACG-1 True    AAACCTGAGTACGACG-1_contig_2 True            478   \n",
       "4 AAACCTGCAACACGCC-1 True    AAACCTGCAACACGCC-1_contig_1 True            506   \n",
       "5 AAACCTGCAACACGCC-1 True    AAACCTGCAACACGCC-1_contig_2 True            470   \n",
       "6 AAACCTGCAGGCGATA-1 True    AAACCTGCAGGCGATA-1_contig_1 True            558   \n",
       "7 AAACCTGCAGGCGATA-1 True    AAACCTGCAGGCGATA-1_contig_2 True            505   \n",
       "  chain v_gene       d_gene j_gene  c_gene full_length productive\n",
       "1 TRA   TRAV25       None   TRAJ20  TRAC   True        True      \n",
       "2 TRB   TRBV5-1      None   TRBJ2-7 TRBC2  True        True      \n",
       "4 TRA   TRAV38-2/DV8 None   TRAJ52  TRAC   True        True      \n",
       "5 TRB   TRBV10-3     None   TRBJ2-2 TRBC2  True        True      \n",
       "6 TRA   TRAV12-1     None   TRAJ9   TRAC   True        True      \n",
       "7 TRB   TRBV9        None   TRBJ2-2 TRBC2  True        True      \n",
       "  cdr3               cdr3_nt                                               \n",
       "1 CGCSNDYKLSF        TGTGGGTGTTCTAACGACTACAAGCTCAGCTTT                     \n",
       "2 CASSLTDRTYEQYF     TGCGCCAGCAGCTTGACCGACAGGACCTACGAGCAGTACTTC            \n",
       "4 CAYRSAQAGGTSYGKLTF TGTGCTTATAGGAGCGCGCAGGCTGGTGGTACTAGCTATGGAAAGCTGACATTT\n",
       "5 CAISEQGKGELFF      TGTGCCATCAGTGAACAGGGGAAAGGGGAGCTGTTTTTT               \n",
       "6 CVVSDNTGGFKTIF     TGTGTGGTCTCCGATAATACTGGAGGCTTCAAAACTATCTTT            \n",
       "7 CASSVRRERANTGELFF  TGTGCCAGCAGCGTAAGGAGGGAAAGGGCGAACACCGGGGAGCTGTTTTTT   \n",
       "  reads umis raw_clonotype_id raw_consensus_id        \n",
       "1  8344  4   clonotype123     clonotype123_consensus_2\n",
       "2 65390 38   clonotype123     clonotype123_consensus_1\n",
       "4 18372  8   clonotype124     clonotype124_consensus_1\n",
       "5 34054  9   clonotype124     clonotype124_consensus_2\n",
       "6  5018  2   clonotype1       clonotype1_consensus_2  \n",
       "7 25110 11   clonotype1       clonotype1_consensus_1  "
      ]
     },
     "metadata": {},
     "output_type": "display_data"
    }
   ],
   "source": [
    "data(\"contig_list\") #the data built into scRepertoire\n",
    "\n",
    "head(contig_list[[1]])"
   ]
  },
  {
   "cell_type": "code",
   "execution_count": null,
   "metadata": {
    "vscode": {
     "languageId": "r"
    }
   },
   "outputs": [],
   "source": []
  },
  {
   "cell_type": "code",
   "execution_count": 3,
   "metadata": {
    "vscode": {
     "languageId": "r"
    }
   },
   "outputs": [
    {
     "data": {
      "text/html": [
       "<table class=\"dataframe\">\n",
       "<caption>A data.frame: 6 × 12</caption>\n",
       "<thead>\n",
       "\t<tr><th></th><th scope=col>barcode</th><th scope=col>sample</th><th scope=col>TCR1</th><th scope=col>cdr3_aa1</th><th scope=col>cdr3_nt1</th><th scope=col>TCR2</th><th scope=col>cdr3_aa2</th><th scope=col>cdr3_nt2</th><th scope=col>CTgene</th><th scope=col>CTnt</th><th scope=col>CTaa</th><th scope=col>CTstrict</th></tr>\n",
       "\t<tr><th></th><th scope=col>&lt;chr&gt;</th><th scope=col>&lt;chr&gt;</th><th scope=col>&lt;chr&gt;</th><th scope=col>&lt;chr&gt;</th><th scope=col>&lt;chr&gt;</th><th scope=col>&lt;chr&gt;</th><th scope=col>&lt;chr&gt;</th><th scope=col>&lt;chr&gt;</th><th scope=col>&lt;chr&gt;</th><th scope=col>&lt;chr&gt;</th><th scope=col>&lt;chr&gt;</th><th scope=col>&lt;chr&gt;</th></tr>\n",
       "</thead>\n",
       "<tbody>\n",
       "\t<tr><th scope=row>1</th><td>Sample1_AAACCTGAGTACGACG-1</td><td>Sample1</td><td>TRAV25.TRAJ20.TRAC      </td><td>CGCSNDYKLSF       </td><td>TGTGGGTGTTCTAACGACTACAAGCTCAGCTTT                     </td><td>TRBV5-1.None.TRBJ2-7.TRBC2 </td><td>CASSLTDRTYEQYF   </td><td>TGCGCCAGCAGCTTGACCGACAGGACCTACGAGCAGTACTTC         </td><td>TRAV25.TRAJ20.TRAC_TRBV5-1.None.TRBJ2-7.TRBC2       </td><td>TGTGGGTGTTCTAACGACTACAAGCTCAGCTTT_TGCGCCAGCAGCTTGACCGACAGGACCTACGAGCAGTACTTC                  </td><td>CGCSNDYKLSF_CASSLTDRTYEQYF      </td><td>TRAV25.TRAJ20.TRAC;TGTGGGTGTTCTAACGACTACAAGCTCAGCTTT_TRBV5-1.None.TRBJ2-7.TRBC2;TGCGCCAGCAGCTTGACCGACAGGACCTACGAGCAGTACTTC                         </td></tr>\n",
       "\t<tr><th scope=row>3</th><td>Sample1_AAACCTGCAACACGCC-1</td><td>Sample1</td><td>TRAV38-2/DV8.TRAJ52.TRAC</td><td>CAYRSAQAGGTSYGKLTF</td><td>TGTGCTTATAGGAGCGCGCAGGCTGGTGGTACTAGCTATGGAAAGCTGACATTT</td><td>TRBV10-3.None.TRBJ2-2.TRBC2</td><td>CAISEQGKGELFF    </td><td>TGTGCCATCAGTGAACAGGGGAAAGGGGAGCTGTTTTTT            </td><td>TRAV38-2/DV8.TRAJ52.TRAC_TRBV10-3.None.TRBJ2-2.TRBC2</td><td>TGTGCTTATAGGAGCGCGCAGGCTGGTGGTACTAGCTATGGAAAGCTGACATTT_TGTGCCATCAGTGAACAGGGGAAAGGGGAGCTGTTTTTT</td><td>CAYRSAQAGGTSYGKLTF_CAISEQGKGELFF</td><td>TRAV38-2/DV8.TRAJ52.TRAC;TGTGCTTATAGGAGCGCGCAGGCTGGTGGTACTAGCTATGGAAAGCTGACATTT_TRBV10-3.None.TRBJ2-2.TRBC2;TGTGCCATCAGTGAACAGGGGAAAGGGGAGCTGTTTTTT</td></tr>\n",
       "\t<tr><th scope=row>5</th><td>Sample1_AAACCTGCAGGCGATA-1</td><td>Sample1</td><td>TRAV12-1.TRAJ9.TRAC     </td><td>CVVSDNTGGFKTIF    </td><td>TGTGTGGTCTCCGATAATACTGGAGGCTTCAAAACTATCTTT            </td><td>TRBV9.None.TRBJ2-2.TRBC2   </td><td>CASSVRRERANTGELFF</td><td>TGTGCCAGCAGCGTAAGGAGGGAAAGGGCGAACACCGGGGAGCTGTTTTTT</td><td>TRAV12-1.TRAJ9.TRAC_TRBV9.None.TRBJ2-2.TRBC2        </td><td>TGTGTGGTCTCCGATAATACTGGAGGCTTCAAAACTATCTTT_TGTGCCAGCAGCGTAAGGAGGGAAAGGGCGAACACCGGGGAGCTGTTTTTT</td><td>CVVSDNTGGFKTIF_CASSVRRERANTGELFF</td><td>TRAV12-1.TRAJ9.TRAC;TGTGTGGTCTCCGATAATACTGGAGGCTTCAAAACTATCTTT_TRBV9.None.TRBJ2-2.TRBC2;TGTGCCAGCAGCGTAAGGAGGGAAAGGGCGAACACCGGGGAGCTGTTTTTT        </td></tr>\n",
       "\t<tr><th scope=row>7</th><td>Sample1_AAACCTGCATGAGCGA-1</td><td>Sample1</td><td>TRAV12-1.TRAJ9.TRAC     </td><td>CVVSDNTGGFKTIF    </td><td>TGTGTGGTCTCCGATAATACTGGAGGCTTCAAAACTATCTTT            </td><td>TRBV9.None.TRBJ2-2.TRBC2   </td><td>CASSVRRERANTGELFF</td><td>TGTGCCAGCAGCGTAAGGAGGGAAAGGGCGAACACCGGGGAGCTGTTTTTT</td><td>TRAV12-1.TRAJ9.TRAC_TRBV9.None.TRBJ2-2.TRBC2        </td><td>TGTGTGGTCTCCGATAATACTGGAGGCTTCAAAACTATCTTT_TGTGCCAGCAGCGTAAGGAGGGAAAGGGCGAACACCGGGGAGCTGTTTTTT</td><td>CVVSDNTGGFKTIF_CASSVRRERANTGELFF</td><td>TRAV12-1.TRAJ9.TRAC;TGTGTGGTCTCCGATAATACTGGAGGCTTCAAAACTATCTTT_TRBV9.None.TRBJ2-2.TRBC2;TGTGCCAGCAGCGTAAGGAGGGAAAGGGCGAACACCGGGGAGCTGTTTTTT        </td></tr>\n",
       "\t<tr><th scope=row>9</th><td>Sample1_AAACGGGAGAGCCCAA-1</td><td>Sample1</td><td>TRAV20.TRAJ8.TRAC       </td><td>CAVRGEGFQKLVF     </td><td>TGTGCTGTGCGAGGAGAAGGCTTTCAGAAACTTGTATTT               </td><td>NA                         </td><td>NA               </td><td>NA                                                 </td><td>TRAV20.TRAJ8.TRAC_NA                                </td><td>TGTGCTGTGCGAGGAGAAGGCTTTCAGAAACTTGTATTT_NA                                                    </td><td>CAVRGEGFQKLVF_NA                </td><td>TRAV20.TRAJ8.TRAC;TGTGCTGTGCGAGGAGAAGGCTTTCAGAAACTTGTATTT_NA;NA                                                                                    </td></tr>\n",
       "\t<tr><th scope=row>10</th><td>Sample1_AAACGGGAGCGTTTAC-1</td><td>Sample1</td><td>TRAV12-1.TRAJ9.TRAC     </td><td>CVVSDNTGGFKTIF    </td><td>TGTGTGGTCTCCGATAATACTGGAGGCTTCAAAACTATCTTT            </td><td>TRBV9.None.TRBJ2-2.TRBC2   </td><td>CASSVRRERANTGELFF</td><td>TGTGCCAGCAGCGTAAGGAGGGAAAGGGCGAACACCGGGGAGCTGTTTTTT</td><td>TRAV12-1.TRAJ9.TRAC_TRBV9.None.TRBJ2-2.TRBC2        </td><td>TGTGTGGTCTCCGATAATACTGGAGGCTTCAAAACTATCTTT_TGTGCCAGCAGCGTAAGGAGGGAAAGGGCGAACACCGGGGAGCTGTTTTTT</td><td>CVVSDNTGGFKTIF_CASSVRRERANTGELFF</td><td>TRAV12-1.TRAJ9.TRAC;TGTGTGGTCTCCGATAATACTGGAGGCTTCAAAACTATCTTT_TRBV9.None.TRBJ2-2.TRBC2;TGTGCCAGCAGCGTAAGGAGGGAAAGGGCGAACACCGGGGAGCTGTTTTTT        </td></tr>\n",
       "</tbody>\n",
       "</table>\n"
      ],
      "text/latex": [
       "A data.frame: 6 × 12\n",
       "\\begin{tabular}{r|llllllllllll}\n",
       "  & barcode & sample & TCR1 & cdr3\\_aa1 & cdr3\\_nt1 & TCR2 & cdr3\\_aa2 & cdr3\\_nt2 & CTgene & CTnt & CTaa & CTstrict\\\\\n",
       "  & <chr> & <chr> & <chr> & <chr> & <chr> & <chr> & <chr> & <chr> & <chr> & <chr> & <chr> & <chr>\\\\\n",
       "\\hline\n",
       "\t1 & Sample1\\_AAACCTGAGTACGACG-1 & Sample1 & TRAV25.TRAJ20.TRAC       & CGCSNDYKLSF        & TGTGGGTGTTCTAACGACTACAAGCTCAGCTTT                      & TRBV5-1.None.TRBJ2-7.TRBC2  & CASSLTDRTYEQYF    & TGCGCCAGCAGCTTGACCGACAGGACCTACGAGCAGTACTTC          & TRAV25.TRAJ20.TRAC\\_TRBV5-1.None.TRBJ2-7.TRBC2        & TGTGGGTGTTCTAACGACTACAAGCTCAGCTTT\\_TGCGCCAGCAGCTTGACCGACAGGACCTACGAGCAGTACTTC                   & CGCSNDYKLSF\\_CASSLTDRTYEQYF       & TRAV25.TRAJ20.TRAC;TGTGGGTGTTCTAACGACTACAAGCTCAGCTTT\\_TRBV5-1.None.TRBJ2-7.TRBC2;TGCGCCAGCAGCTTGACCGACAGGACCTACGAGCAGTACTTC                         \\\\\n",
       "\t3 & Sample1\\_AAACCTGCAACACGCC-1 & Sample1 & TRAV38-2/DV8.TRAJ52.TRAC & CAYRSAQAGGTSYGKLTF & TGTGCTTATAGGAGCGCGCAGGCTGGTGGTACTAGCTATGGAAAGCTGACATTT & TRBV10-3.None.TRBJ2-2.TRBC2 & CAISEQGKGELFF     & TGTGCCATCAGTGAACAGGGGAAAGGGGAGCTGTTTTTT             & TRAV38-2/DV8.TRAJ52.TRAC\\_TRBV10-3.None.TRBJ2-2.TRBC2 & TGTGCTTATAGGAGCGCGCAGGCTGGTGGTACTAGCTATGGAAAGCTGACATTT\\_TGTGCCATCAGTGAACAGGGGAAAGGGGAGCTGTTTTTT & CAYRSAQAGGTSYGKLTF\\_CAISEQGKGELFF & TRAV38-2/DV8.TRAJ52.TRAC;TGTGCTTATAGGAGCGCGCAGGCTGGTGGTACTAGCTATGGAAAGCTGACATTT\\_TRBV10-3.None.TRBJ2-2.TRBC2;TGTGCCATCAGTGAACAGGGGAAAGGGGAGCTGTTTTTT\\\\\n",
       "\t5 & Sample1\\_AAACCTGCAGGCGATA-1 & Sample1 & TRAV12-1.TRAJ9.TRAC      & CVVSDNTGGFKTIF     & TGTGTGGTCTCCGATAATACTGGAGGCTTCAAAACTATCTTT             & TRBV9.None.TRBJ2-2.TRBC2    & CASSVRRERANTGELFF & TGTGCCAGCAGCGTAAGGAGGGAAAGGGCGAACACCGGGGAGCTGTTTTTT & TRAV12-1.TRAJ9.TRAC\\_TRBV9.None.TRBJ2-2.TRBC2         & TGTGTGGTCTCCGATAATACTGGAGGCTTCAAAACTATCTTT\\_TGTGCCAGCAGCGTAAGGAGGGAAAGGGCGAACACCGGGGAGCTGTTTTTT & CVVSDNTGGFKTIF\\_CASSVRRERANTGELFF & TRAV12-1.TRAJ9.TRAC;TGTGTGGTCTCCGATAATACTGGAGGCTTCAAAACTATCTTT\\_TRBV9.None.TRBJ2-2.TRBC2;TGTGCCAGCAGCGTAAGGAGGGAAAGGGCGAACACCGGGGAGCTGTTTTTT        \\\\\n",
       "\t7 & Sample1\\_AAACCTGCATGAGCGA-1 & Sample1 & TRAV12-1.TRAJ9.TRAC      & CVVSDNTGGFKTIF     & TGTGTGGTCTCCGATAATACTGGAGGCTTCAAAACTATCTTT             & TRBV9.None.TRBJ2-2.TRBC2    & CASSVRRERANTGELFF & TGTGCCAGCAGCGTAAGGAGGGAAAGGGCGAACACCGGGGAGCTGTTTTTT & TRAV12-1.TRAJ9.TRAC\\_TRBV9.None.TRBJ2-2.TRBC2         & TGTGTGGTCTCCGATAATACTGGAGGCTTCAAAACTATCTTT\\_TGTGCCAGCAGCGTAAGGAGGGAAAGGGCGAACACCGGGGAGCTGTTTTTT & CVVSDNTGGFKTIF\\_CASSVRRERANTGELFF & TRAV12-1.TRAJ9.TRAC;TGTGTGGTCTCCGATAATACTGGAGGCTTCAAAACTATCTTT\\_TRBV9.None.TRBJ2-2.TRBC2;TGTGCCAGCAGCGTAAGGAGGGAAAGGGCGAACACCGGGGAGCTGTTTTTT        \\\\\n",
       "\t9 & Sample1\\_AAACGGGAGAGCCCAA-1 & Sample1 & TRAV20.TRAJ8.TRAC        & CAVRGEGFQKLVF      & TGTGCTGTGCGAGGAGAAGGCTTTCAGAAACTTGTATTT                & NA                          & NA                & NA                                                  & TRAV20.TRAJ8.TRAC\\_NA                                 & TGTGCTGTGCGAGGAGAAGGCTTTCAGAAACTTGTATTT\\_NA                                                     & CAVRGEGFQKLVF\\_NA                 & TRAV20.TRAJ8.TRAC;TGTGCTGTGCGAGGAGAAGGCTTTCAGAAACTTGTATTT\\_NA;NA                                                                                    \\\\\n",
       "\t10 & Sample1\\_AAACGGGAGCGTTTAC-1 & Sample1 & TRAV12-1.TRAJ9.TRAC      & CVVSDNTGGFKTIF     & TGTGTGGTCTCCGATAATACTGGAGGCTTCAAAACTATCTTT             & TRBV9.None.TRBJ2-2.TRBC2    & CASSVRRERANTGELFF & TGTGCCAGCAGCGTAAGGAGGGAAAGGGCGAACACCGGGGAGCTGTTTTTT & TRAV12-1.TRAJ9.TRAC\\_TRBV9.None.TRBJ2-2.TRBC2         & TGTGTGGTCTCCGATAATACTGGAGGCTTCAAAACTATCTTT\\_TGTGCCAGCAGCGTAAGGAGGGAAAGGGCGAACACCGGGGAGCTGTTTTTT & CVVSDNTGGFKTIF\\_CASSVRRERANTGELFF & TRAV12-1.TRAJ9.TRAC;TGTGTGGTCTCCGATAATACTGGAGGCTTCAAAACTATCTTT\\_TRBV9.None.TRBJ2-2.TRBC2;TGTGCCAGCAGCGTAAGGAGGGAAAGGGCGAACACCGGGGAGCTGTTTTTT        \\\\\n",
       "\\end{tabular}\n"
      ],
      "text/markdown": [
       "\n",
       "A data.frame: 6 × 12\n",
       "\n",
       "| <!--/--> | barcode &lt;chr&gt; | sample &lt;chr&gt; | TCR1 &lt;chr&gt; | cdr3_aa1 &lt;chr&gt; | cdr3_nt1 &lt;chr&gt; | TCR2 &lt;chr&gt; | cdr3_aa2 &lt;chr&gt; | cdr3_nt2 &lt;chr&gt; | CTgene &lt;chr&gt; | CTnt &lt;chr&gt; | CTaa &lt;chr&gt; | CTstrict &lt;chr&gt; |\n",
       "|---|---|---|---|---|---|---|---|---|---|---|---|---|\n",
       "| 1 | Sample1_AAACCTGAGTACGACG-1 | Sample1 | TRAV25.TRAJ20.TRAC       | CGCSNDYKLSF        | TGTGGGTGTTCTAACGACTACAAGCTCAGCTTT                      | TRBV5-1.None.TRBJ2-7.TRBC2  | CASSLTDRTYEQYF    | TGCGCCAGCAGCTTGACCGACAGGACCTACGAGCAGTACTTC          | TRAV25.TRAJ20.TRAC_TRBV5-1.None.TRBJ2-7.TRBC2        | TGTGGGTGTTCTAACGACTACAAGCTCAGCTTT_TGCGCCAGCAGCTTGACCGACAGGACCTACGAGCAGTACTTC                   | CGCSNDYKLSF_CASSLTDRTYEQYF       | TRAV25.TRAJ20.TRAC;TGTGGGTGTTCTAACGACTACAAGCTCAGCTTT_TRBV5-1.None.TRBJ2-7.TRBC2;TGCGCCAGCAGCTTGACCGACAGGACCTACGAGCAGTACTTC                          |\n",
       "| 3 | Sample1_AAACCTGCAACACGCC-1 | Sample1 | TRAV38-2/DV8.TRAJ52.TRAC | CAYRSAQAGGTSYGKLTF | TGTGCTTATAGGAGCGCGCAGGCTGGTGGTACTAGCTATGGAAAGCTGACATTT | TRBV10-3.None.TRBJ2-2.TRBC2 | CAISEQGKGELFF     | TGTGCCATCAGTGAACAGGGGAAAGGGGAGCTGTTTTTT             | TRAV38-2/DV8.TRAJ52.TRAC_TRBV10-3.None.TRBJ2-2.TRBC2 | TGTGCTTATAGGAGCGCGCAGGCTGGTGGTACTAGCTATGGAAAGCTGACATTT_TGTGCCATCAGTGAACAGGGGAAAGGGGAGCTGTTTTTT | CAYRSAQAGGTSYGKLTF_CAISEQGKGELFF | TRAV38-2/DV8.TRAJ52.TRAC;TGTGCTTATAGGAGCGCGCAGGCTGGTGGTACTAGCTATGGAAAGCTGACATTT_TRBV10-3.None.TRBJ2-2.TRBC2;TGTGCCATCAGTGAACAGGGGAAAGGGGAGCTGTTTTTT |\n",
       "| 5 | Sample1_AAACCTGCAGGCGATA-1 | Sample1 | TRAV12-1.TRAJ9.TRAC      | CVVSDNTGGFKTIF     | TGTGTGGTCTCCGATAATACTGGAGGCTTCAAAACTATCTTT             | TRBV9.None.TRBJ2-2.TRBC2    | CASSVRRERANTGELFF | TGTGCCAGCAGCGTAAGGAGGGAAAGGGCGAACACCGGGGAGCTGTTTTTT | TRAV12-1.TRAJ9.TRAC_TRBV9.None.TRBJ2-2.TRBC2         | TGTGTGGTCTCCGATAATACTGGAGGCTTCAAAACTATCTTT_TGTGCCAGCAGCGTAAGGAGGGAAAGGGCGAACACCGGGGAGCTGTTTTTT | CVVSDNTGGFKTIF_CASSVRRERANTGELFF | TRAV12-1.TRAJ9.TRAC;TGTGTGGTCTCCGATAATACTGGAGGCTTCAAAACTATCTTT_TRBV9.None.TRBJ2-2.TRBC2;TGTGCCAGCAGCGTAAGGAGGGAAAGGGCGAACACCGGGGAGCTGTTTTTT         |\n",
       "| 7 | Sample1_AAACCTGCATGAGCGA-1 | Sample1 | TRAV12-1.TRAJ9.TRAC      | CVVSDNTGGFKTIF     | TGTGTGGTCTCCGATAATACTGGAGGCTTCAAAACTATCTTT             | TRBV9.None.TRBJ2-2.TRBC2    | CASSVRRERANTGELFF | TGTGCCAGCAGCGTAAGGAGGGAAAGGGCGAACACCGGGGAGCTGTTTTTT | TRAV12-1.TRAJ9.TRAC_TRBV9.None.TRBJ2-2.TRBC2         | TGTGTGGTCTCCGATAATACTGGAGGCTTCAAAACTATCTTT_TGTGCCAGCAGCGTAAGGAGGGAAAGGGCGAACACCGGGGAGCTGTTTTTT | CVVSDNTGGFKTIF_CASSVRRERANTGELFF | TRAV12-1.TRAJ9.TRAC;TGTGTGGTCTCCGATAATACTGGAGGCTTCAAAACTATCTTT_TRBV9.None.TRBJ2-2.TRBC2;TGTGCCAGCAGCGTAAGGAGGGAAAGGGCGAACACCGGGGAGCTGTTTTTT         |\n",
       "| 9 | Sample1_AAACGGGAGAGCCCAA-1 | Sample1 | TRAV20.TRAJ8.TRAC        | CAVRGEGFQKLVF      | TGTGCTGTGCGAGGAGAAGGCTTTCAGAAACTTGTATTT                | NA                          | NA                | NA                                                  | TRAV20.TRAJ8.TRAC_NA                                 | TGTGCTGTGCGAGGAGAAGGCTTTCAGAAACTTGTATTT_NA                                                     | CAVRGEGFQKLVF_NA                 | TRAV20.TRAJ8.TRAC;TGTGCTGTGCGAGGAGAAGGCTTTCAGAAACTTGTATTT_NA;NA                                                                                     |\n",
       "| 10 | Sample1_AAACGGGAGCGTTTAC-1 | Sample1 | TRAV12-1.TRAJ9.TRAC      | CVVSDNTGGFKTIF     | TGTGTGGTCTCCGATAATACTGGAGGCTTCAAAACTATCTTT             | TRBV9.None.TRBJ2-2.TRBC2    | CASSVRRERANTGELFF | TGTGCCAGCAGCGTAAGGAGGGAAAGGGCGAACACCGGGGAGCTGTTTTTT | TRAV12-1.TRAJ9.TRAC_TRBV9.None.TRBJ2-2.TRBC2         | TGTGTGGTCTCCGATAATACTGGAGGCTTCAAAACTATCTTT_TGTGCCAGCAGCGTAAGGAGGGAAAGGGCGAACACCGGGGAGCTGTTTTTT | CVVSDNTGGFKTIF_CASSVRRERANTGELFF | TRAV12-1.TRAJ9.TRAC;TGTGTGGTCTCCGATAATACTGGAGGCTTCAAAACTATCTTT_TRBV9.None.TRBJ2-2.TRBC2;TGTGCCAGCAGCGTAAGGAGGGAAAGGGCGAACACCGGGGAGCTGTTTTTT         |\n",
       "\n"
      ],
      "text/plain": [
       "   barcode                    sample  TCR1                    \n",
       "1  Sample1_AAACCTGAGTACGACG-1 Sample1 TRAV25.TRAJ20.TRAC      \n",
       "3  Sample1_AAACCTGCAACACGCC-1 Sample1 TRAV38-2/DV8.TRAJ52.TRAC\n",
       "5  Sample1_AAACCTGCAGGCGATA-1 Sample1 TRAV12-1.TRAJ9.TRAC     \n",
       "7  Sample1_AAACCTGCATGAGCGA-1 Sample1 TRAV12-1.TRAJ9.TRAC     \n",
       "9  Sample1_AAACGGGAGAGCCCAA-1 Sample1 TRAV20.TRAJ8.TRAC       \n",
       "10 Sample1_AAACGGGAGCGTTTAC-1 Sample1 TRAV12-1.TRAJ9.TRAC     \n",
       "   cdr3_aa1           cdr3_nt1                                              \n",
       "1  CGCSNDYKLSF        TGTGGGTGTTCTAACGACTACAAGCTCAGCTTT                     \n",
       "3  CAYRSAQAGGTSYGKLTF TGTGCTTATAGGAGCGCGCAGGCTGGTGGTACTAGCTATGGAAAGCTGACATTT\n",
       "5  CVVSDNTGGFKTIF     TGTGTGGTCTCCGATAATACTGGAGGCTTCAAAACTATCTTT            \n",
       "7  CVVSDNTGGFKTIF     TGTGTGGTCTCCGATAATACTGGAGGCTTCAAAACTATCTTT            \n",
       "9  CAVRGEGFQKLVF      TGTGCTGTGCGAGGAGAAGGCTTTCAGAAACTTGTATTT               \n",
       "10 CVVSDNTGGFKTIF     TGTGTGGTCTCCGATAATACTGGAGGCTTCAAAACTATCTTT            \n",
       "   TCR2                        cdr3_aa2         \n",
       "1  TRBV5-1.None.TRBJ2-7.TRBC2  CASSLTDRTYEQYF   \n",
       "3  TRBV10-3.None.TRBJ2-2.TRBC2 CAISEQGKGELFF    \n",
       "5  TRBV9.None.TRBJ2-2.TRBC2    CASSVRRERANTGELFF\n",
       "7  TRBV9.None.TRBJ2-2.TRBC2    CASSVRRERANTGELFF\n",
       "9  NA                          NA               \n",
       "10 TRBV9.None.TRBJ2-2.TRBC2    CASSVRRERANTGELFF\n",
       "   cdr3_nt2                                           \n",
       "1  TGCGCCAGCAGCTTGACCGACAGGACCTACGAGCAGTACTTC         \n",
       "3  TGTGCCATCAGTGAACAGGGGAAAGGGGAGCTGTTTTTT            \n",
       "5  TGTGCCAGCAGCGTAAGGAGGGAAAGGGCGAACACCGGGGAGCTGTTTTTT\n",
       "7  TGTGCCAGCAGCGTAAGGAGGGAAAGGGCGAACACCGGGGAGCTGTTTTTT\n",
       "9  NA                                                 \n",
       "10 TGTGCCAGCAGCGTAAGGAGGGAAAGGGCGAACACCGGGGAGCTGTTTTTT\n",
       "   CTgene                                              \n",
       "1  TRAV25.TRAJ20.TRAC_TRBV5-1.None.TRBJ2-7.TRBC2       \n",
       "3  TRAV38-2/DV8.TRAJ52.TRAC_TRBV10-3.None.TRBJ2-2.TRBC2\n",
       "5  TRAV12-1.TRAJ9.TRAC_TRBV9.None.TRBJ2-2.TRBC2        \n",
       "7  TRAV12-1.TRAJ9.TRAC_TRBV9.None.TRBJ2-2.TRBC2        \n",
       "9  TRAV20.TRAJ8.TRAC_NA                                \n",
       "10 TRAV12-1.TRAJ9.TRAC_TRBV9.None.TRBJ2-2.TRBC2        \n",
       "   CTnt                                                                                          \n",
       "1  TGTGGGTGTTCTAACGACTACAAGCTCAGCTTT_TGCGCCAGCAGCTTGACCGACAGGACCTACGAGCAGTACTTC                  \n",
       "3  TGTGCTTATAGGAGCGCGCAGGCTGGTGGTACTAGCTATGGAAAGCTGACATTT_TGTGCCATCAGTGAACAGGGGAAAGGGGAGCTGTTTTTT\n",
       "5  TGTGTGGTCTCCGATAATACTGGAGGCTTCAAAACTATCTTT_TGTGCCAGCAGCGTAAGGAGGGAAAGGGCGAACACCGGGGAGCTGTTTTTT\n",
       "7  TGTGTGGTCTCCGATAATACTGGAGGCTTCAAAACTATCTTT_TGTGCCAGCAGCGTAAGGAGGGAAAGGGCGAACACCGGGGAGCTGTTTTTT\n",
       "9  TGTGCTGTGCGAGGAGAAGGCTTTCAGAAACTTGTATTT_NA                                                    \n",
       "10 TGTGTGGTCTCCGATAATACTGGAGGCTTCAAAACTATCTTT_TGTGCCAGCAGCGTAAGGAGGGAAAGGGCGAACACCGGGGAGCTGTTTTTT\n",
       "   CTaa                            \n",
       "1  CGCSNDYKLSF_CASSLTDRTYEQYF      \n",
       "3  CAYRSAQAGGTSYGKLTF_CAISEQGKGELFF\n",
       "5  CVVSDNTGGFKTIF_CASSVRRERANTGELFF\n",
       "7  CVVSDNTGGFKTIF_CASSVRRERANTGELFF\n",
       "9  CAVRGEGFQKLVF_NA                \n",
       "10 CVVSDNTGGFKTIF_CASSVRRERANTGELFF\n",
       "   CTstrict                                                                                                                                           \n",
       "1  TRAV25.TRAJ20.TRAC;TGTGGGTGTTCTAACGACTACAAGCTCAGCTTT_TRBV5-1.None.TRBJ2-7.TRBC2;TGCGCCAGCAGCTTGACCGACAGGACCTACGAGCAGTACTTC                         \n",
       "3  TRAV38-2/DV8.TRAJ52.TRAC;TGTGCTTATAGGAGCGCGCAGGCTGGTGGTACTAGCTATGGAAAGCTGACATTT_TRBV10-3.None.TRBJ2-2.TRBC2;TGTGCCATCAGTGAACAGGGGAAAGGGGAGCTGTTTTTT\n",
       "5  TRAV12-1.TRAJ9.TRAC;TGTGTGGTCTCCGATAATACTGGAGGCTTCAAAACTATCTTT_TRBV9.None.TRBJ2-2.TRBC2;TGTGCCAGCAGCGTAAGGAGGGAAAGGGCGAACACCGGGGAGCTGTTTTTT        \n",
       "7  TRAV12-1.TRAJ9.TRAC;TGTGTGGTCTCCGATAATACTGGAGGCTTCAAAACTATCTTT_TRBV9.None.TRBJ2-2.TRBC2;TGTGCCAGCAGCGTAAGGAGGGAAAGGGCGAACACCGGGGAGCTGTTTTTT        \n",
       "9  TRAV20.TRAJ8.TRAC;TGTGCTGTGCGAGGAGAAGGCTTTCAGAAACTTGTATTT_NA;NA                                                                                    \n",
       "10 TRAV12-1.TRAJ9.TRAC;TGTGTGGTCTCCGATAATACTGGAGGCTTCAAAACTATCTTT_TRBV9.None.TRBJ2-2.TRBC2;TGTGCCAGCAGCGTAAGGAGGGAAAGGGCGAACACCGGGGAGCTGTTTTTT        "
      ]
     },
     "metadata": {},
     "output_type": "display_data"
    }
   ],
   "source": [
    "\n",
    "# Combine TCR/BCR data from multiple samples\n",
    "# Assuming each element in contig_list corresponds to a sample\n",
    "combined_tcr <- combineTCR(contig_list, samples = c(\"Sample1\", \"Sample2\"))\n",
    "\n",
    "# View the combined TCR/BCR data\n",
    "head(combined_tcr[[1]])\n"
   ]
  },
  {
   "cell_type": "code",
   "execution_count": 4,
   "metadata": {
    "vscode": {
     "languageId": "r"
    }
   },
   "outputs": [
    {
     "name": "stdout",
     "output_type": "stream",
     "text": [
      "List of 8\n",
      " $ Sample1:'data.frame':\t2805 obs. of  12 variables:\n",
      "  ..$ barcode : chr [1:2805] \"Sample1_AAACCTGAGTACGACG-1\" \"Sample1_AAACCTGCAACACGCC-1\" \"Sample1_AAACCTGCAGGCGATA-1\" \"Sample1_AAACCTGCATGAGCGA-1\" ...\n",
      "  ..$ sample  : chr [1:2805] \"Sample1\" \"Sample1\" \"Sample1\" \"Sample1\" ...\n",
      "  ..$ TCR1    : chr [1:2805] \"TRAV25.TRAJ20.TRAC\" \"TRAV38-2/DV8.TRAJ52.TRAC\" \"TRAV12-1.TRAJ9.TRAC\" \"TRAV12-1.TRAJ9.TRAC\" ...\n",
      "  ..$ cdr3_aa1: chr [1:2805] \"CGCSNDYKLSF\" \"CAYRSAQAGGTSYGKLTF\" \"CVVSDNTGGFKTIF\" \"CVVSDNTGGFKTIF\" ...\n",
      "  ..$ cdr3_nt1: chr [1:2805] \"TGTGGGTGTTCTAACGACTACAAGCTCAGCTTT\" \"TGTGCTTATAGGAGCGCGCAGGCTGGTGGTACTAGCTATGGAAAGCTGACATTT\" \"TGTGTGGTCTCCGATAATACTGGAGGCTTCAAAACTATCTTT\" \"TGTGTGGTCTCCGATAATACTGGAGGCTTCAAAACTATCTTT\" ...\n",
      "  ..$ TCR2    : chr [1:2805] \"TRBV5-1.None.TRBJ2-7.TRBC2\" \"TRBV10-3.None.TRBJ2-2.TRBC2\" \"TRBV9.None.TRBJ2-2.TRBC2\" \"TRBV9.None.TRBJ2-2.TRBC2\" ...\n",
      "  ..$ cdr3_aa2: chr [1:2805] \"CASSLTDRTYEQYF\" \"CAISEQGKGELFF\" \"CASSVRRERANTGELFF\" \"CASSVRRERANTGELFF\" ...\n",
      "  ..$ cdr3_nt2: chr [1:2805] \"TGCGCCAGCAGCTTGACCGACAGGACCTACGAGCAGTACTTC\" \"TGTGCCATCAGTGAACAGGGGAAAGGGGAGCTGTTTTTT\" \"TGTGCCAGCAGCGTAAGGAGGGAAAGGGCGAACACCGGGGAGCTGTTTTTT\" \"TGTGCCAGCAGCGTAAGGAGGGAAAGGGCGAACACCGGGGAGCTGTTTTTT\" ...\n",
      "  ..$ CTgene  : chr [1:2805] \"TRAV25.TRAJ20.TRAC_TRBV5-1.None.TRBJ2-7.TRBC2\" \"TRAV38-2/DV8.TRAJ52.TRAC_TRBV10-3.None.TRBJ2-2.TRBC2\" \"TRAV12-1.TRAJ9.TRAC_TRBV9.None.TRBJ2-2.TRBC2\" \"TRAV12-1.TRAJ9.TRAC_TRBV9.None.TRBJ2-2.TRBC2\" ...\n",
      "  ..$ CTnt    : chr [1:2805] \"TGTGGGTGTTCTAACGACTACAAGCTCAGCTTT_TGCGCCAGCAGCTTGACCGACAGGACCTACGAGCAGTACTTC\" \"TGTGCTTATAGGAGCGCGCAGGCTGGTGGTACTAGCTATGGAAAGCTGACATTT_TGTGCCATCAGTGAACAGGGGAAAGGGGAGCTGTTTTTT\" \"TGTGTGGTCTCCGATAATACTGGAGGCTTCAAAACTATCTTT_TGTGCCAGCAGCGTAAGGAGGGAAAGGGCGAACACCGGGGAGCTGTTTTTT\" \"TGTGTGGTCTCCGATAATACTGGAGGCTTCAAAACTATCTTT_TGTGCCAGCAGCGTAAGGAGGGAAAGGGCGAACACCGGGGAGCTGTTTTTT\" ...\n",
      "  ..$ CTaa    : chr [1:2805] \"CGCSNDYKLSF_CASSLTDRTYEQYF\" \"CAYRSAQAGGTSYGKLTF_CAISEQGKGELFF\" \"CVVSDNTGGFKTIF_CASSVRRERANTGELFF\" \"CVVSDNTGGFKTIF_CASSVRRERANTGELFF\" ...\n",
      "  ..$ CTstrict: chr [1:2805] \"TRAV25.TRAJ20.TRAC;TGTGGGTGTTCTAACGACTACAAGCTCAGCTTT_TRBV5-1.None.TRBJ2-7.TRBC2;TGCGCCAGCAGCTTGACCGACAGGACCTACGAGCAGTACTTC\" \"TRAV38-2/DV8.TRAJ52.TRAC;TGTGCTTATAGGAGCGCGCAGGCTGGTGGTACTAGCTATGGAAAGCTGACATTT_TRBV10-3.None.TRBJ2-2.TRBC2;TGT\"| __truncated__ \"TRAV12-1.TRAJ9.TRAC;TGTGTGGTCTCCGATAATACTGGAGGCTTCAAAACTATCTTT_TRBV9.None.TRBJ2-2.TRBC2;TGTGCCAGCAGCGTAAGGAGGGA\"| __truncated__ \"TRAV12-1.TRAJ9.TRAC;TGTGTGGTCTCCGATAATACTGGAGGCTTCAAAACTATCTTT_TRBV9.None.TRBJ2-2.TRBC2;TGTGCCAGCAGCGTAAGGAGGGA\"| __truncated__ ...\n",
      " $ Sample2:'data.frame':\t2893 obs. of  12 variables:\n",
      "  ..$ barcode : chr [1:2893] \"Sample2_AAACCTGAGGTGTTAA-1\" \"Sample2_AAACCTGCACGTTGGC-1\" \"Sample2_AAACCTGGTACGACCC-1\" \"Sample2_AAACCTGGTTCGCTAA-1\" ...\n",
      "  ..$ sample  : chr [1:2893] \"Sample2\" \"Sample2\" \"Sample2\" \"Sample2\" ...\n",
      "  ..$ TCR1    : chr [1:2893] \"TRAV9-2.TRAJ28.TRAC\" \"TRAV4.TRAJ20.TRAC\" \"TRAV20.TRAJ9.TRAC\" \"TRAV38-2/DV8.TRAJ48.TRAC\" ...\n",
      "  ..$ cdr3_aa1: chr [1:2893] \"CALRRYSGAGSYQLTF\" \"CLVGPDNDYKLSF\" \"CAPHTGGFKTIF\" \"CAYRSNNFGNEKLTF\" ...\n",
      "  ..$ cdr3_nt1: chr [1:2893] \"TGTGCTCTGAGGAGGTACTCTGGGGCTGGGAGTTACCAACTCACTTTC\" \"TGCCTCGTGGGTCCTGATAACGACTACAAGCTCAGCTTT\" \"TGTGCTCCCCATACTGGAGGCTTCAAAACTATCTTT\" \"TGTGCTTATAGGAGCAATAACTTTGGAAATGAGAAATTAACCTTT\" ...\n",
      "  ..$ TCR2    : chr [1:2893] \"TRBV12-4.None.TRBJ2-1.TRBC2\" \"TRBV6-5.None.TRBJ2-1.TRBC2\" \"TRBV11-2.None.TRBJ2-7.TRBC2\" \"TRBV5-5.None.TRBJ2-3.TRBC2\" ...\n",
      "  ..$ cdr3_aa2: chr [1:2893] \"CASSLARGGPYNEQFF\" \"CASSYSRHRSYNEQFF\" \"CASSFTQGRYEQYF\" \"CASSLGPNLNTDTQYF\" ...\n",
      "  ..$ cdr3_nt2: chr [1:2893] \"TGTGCCAGCAGTTTAGCGCGGGGGGGGCCCTACAATGAGCAGTTCTTC\" \"TGTGCCAGCAGTTACTCGCGGCACCGTTCCTACAATGAGCAGTTCTTC\" \"TGTGCCAGCAGCTTTACCCAGGGGCGTTACGAGCAGTACTTC\" \"TGTGCCAGCAGCTTGGGCCCGAACCTTAACACAGATACGCAGTATTTT\" ...\n",
      "  ..$ CTgene  : chr [1:2893] \"TRAV9-2.TRAJ28.TRAC_TRBV12-4.None.TRBJ2-1.TRBC2\" \"TRAV4.TRAJ20.TRAC_TRBV6-5.None.TRBJ2-1.TRBC2\" \"TRAV20.TRAJ9.TRAC_TRBV11-2.None.TRBJ2-7.TRBC2\" \"TRAV38-2/DV8.TRAJ48.TRAC_TRBV5-5.None.TRBJ2-3.TRBC2\" ...\n",
      "  ..$ CTnt    : chr [1:2893] \"TGTGCTCTGAGGAGGTACTCTGGGGCTGGGAGTTACCAACTCACTTTC_TGTGCCAGCAGTTTAGCGCGGGGGGGGCCCTACAATGAGCAGTTCTTC\" \"TGCCTCGTGGGTCCTGATAACGACTACAAGCTCAGCTTT_TGTGCCAGCAGTTACTCGCGGCACCGTTCCTACAATGAGCAGTTCTTC\" \"TGTGCTCCCCATACTGGAGGCTTCAAAACTATCTTT_TGTGCCAGCAGCTTTACCCAGGGGCGTTACGAGCAGTACTTC\" \"TGTGCTTATAGGAGCAATAACTTTGGAAATGAGAAATTAACCTTT_TGTGCCAGCAGCTTGGGCCCGAACCTTAACACAGATACGCAGTATTTT\" ...\n",
      "  ..$ CTaa    : chr [1:2893] \"CALRRYSGAGSYQLTF_CASSLARGGPYNEQFF\" \"CLVGPDNDYKLSF_CASSYSRHRSYNEQFF\" \"CAPHTGGFKTIF_CASSFTQGRYEQYF\" \"CAYRSNNFGNEKLTF_CASSLGPNLNTDTQYF\" ...\n",
      "  ..$ CTstrict: chr [1:2893] \"TRAV9-2.TRAJ28.TRAC;TGTGCTCTGAGGAGGTACTCTGGGGCTGGGAGTTACCAACTCACTTTC_TRBV12-4.None.TRBJ2-1.TRBC2;TGTGCCAGCAGTTT\"| __truncated__ \"TRAV4.TRAJ20.TRAC;TGCCTCGTGGGTCCTGATAACGACTACAAGCTCAGCTTT_TRBV6-5.None.TRBJ2-1.TRBC2;TGTGCCAGCAGTTACTCGCGGCACCG\"| __truncated__ \"TRAV20.TRAJ9.TRAC;TGTGCTCCCCATACTGGAGGCTTCAAAACTATCTTT_TRBV11-2.None.TRBJ2-7.TRBC2;TGTGCCAGCAGCTTTACCCAGGGGCGTTACGAGCAGTACTTC\" \"TRAV38-2/DV8.TRAJ48.TRAC;TGTGCTTATAGGAGCAATAACTTTGGAAATGAGAAATTAACCTTT_TRBV5-5.None.TRBJ2-3.TRBC2;TGTGCCAGCAGCT\"| __truncated__ ...\n",
      " $ NA     :'data.frame':\t1328 obs. of  12 variables:\n",
      "  ..$ barcode : chr [1:1328] \"NA_AAACCTGAGGCTCAGA-1\" \"NA_AAACCTGCATGACATC-1\" \"NA_AAACCTGGTATGCTTG-1\" \"NA_AAACGGGCAGATGGGT-1\" ...\n",
      "  ..$ sample  : chr [1:1328] NA NA NA NA ...\n",
      "  ..$ TCR1    : chr [1:1328] \"TRAV26-1.TRAJ37.TRAC\" \"TRAV3.TRAJ20.TRAC\" \"TRAV26-1.TRAJ53.TRAC\" NA ...\n",
      "  ..$ cdr3_aa1: chr [1:1328] \"CIVRGGSSNTGKLIF\" \"CAVQRSNDYKLSF\" \"CIGSSGGSNYKLTF\" NA ...\n",
      "  ..$ cdr3_nt1: chr [1:1328] \"TGCATCGTCAGGGGCGGCTCTAGCAACACAGGCAAACTAATCTTT\" \"TGTGCTGTGCAACGTTCTAACGACTACAAGCTCAGCTTT\" \"TGCATCGGCTCAAGTGGAGGTAGCAACTATAAACTGACATTT\" NA ...\n",
      "  ..$ TCR2    : chr [1:1328] \"TRBV6-1.None.TRBJ2-3.TRBC2\" \"TRBV3-1.None.TRBJ2-3.TRBC2\" \"TRBV4-1.None.TRBJ2-2.TRBC2;TRBV19.None.TRBJ1-5.TRBC1\" \"TRBV5-1.None.TRBJ1-2.TRBC1\" ...\n",
      "  ..$ cdr3_aa2: chr [1:1328] \"CASIGRSFGRDTQYF\" \"CASSPPRGGFTDTQYF\" \"CASSQGGQGGRELFF;CASSYAVGRQPQHF\" \"CASSLRETNYGYTF\" ...\n",
      "  ..$ cdr3_nt2: chr [1:1328] \"TGTGCCAGTATCGGGAGGTCCTTTGGCCGAGATACGCAGTATTTT\" \"TGTGCCAGCAGCCCCCCCCGCGGCGGATTCACAGATACGCAGTATTTT\" \"TGCGCCAGCAGCCAAGGTGGACAGGGCGGAAGGGAGCTGTTTTTT;TGTGCCAGTAGCTACGCGGTGGGGAGGCAGCCCCAGCATTTT\" \"TGCGCCAGCAGCTTGAGGGAAACCAACTATGGCTACACCTTC\" ...\n",
      "  ..$ CTgene  : chr [1:1328] \"TRAV26-1.TRAJ37.TRAC_TRBV6-1.None.TRBJ2-3.TRBC2\" \"TRAV3.TRAJ20.TRAC_TRBV3-1.None.TRBJ2-3.TRBC2\" \"TRAV26-1.TRAJ53.TRAC_TRBV4-1.None.TRBJ2-2.TRBC2;TRBV19.None.TRBJ1-5.TRBC1\" \"NA_TRBV5-1.None.TRBJ1-2.TRBC1\" ...\n",
      "  ..$ CTnt    : chr [1:1328] \"TGCATCGTCAGGGGCGGCTCTAGCAACACAGGCAAACTAATCTTT_TGTGCCAGTATCGGGAGGTCCTTTGGCCGAGATACGCAGTATTTT\" \"TGTGCTGTGCAACGTTCTAACGACTACAAGCTCAGCTTT_TGTGCCAGCAGCCCCCCCCGCGGCGGATTCACAGATACGCAGTATTTT\" \"TGCATCGGCTCAAGTGGAGGTAGCAACTATAAACTGACATTT_TGCGCCAGCAGCCAAGGTGGACAGGGCGGAAGGGAGCTGTTTTTT;TGTGCCAGTAGCTACGCGGTGG\"| __truncated__ \"NA_TGCGCCAGCAGCTTGAGGGAAACCAACTATGGCTACACCTTC\" ...\n",
      "  ..$ CTaa    : chr [1:1328] \"CIVRGGSSNTGKLIF_CASIGRSFGRDTQYF\" \"CAVQRSNDYKLSF_CASSPPRGGFTDTQYF\" \"CIGSSGGSNYKLTF_CASSQGGQGGRELFF;CASSYAVGRQPQHF\" \"NA_CASSLRETNYGYTF\" ...\n",
      "  ..$ CTstrict: chr [1:1328] \"TRAV26-1.TRAJ37.TRAC;TGCATCGTCAGGGGCGGCTCTAGCAACACAGGCAAACTAATCTTT_TRBV6-1.None.TRBJ2-3.TRBC2;TGTGCCAGTATCGGGAG\"| __truncated__ \"TRAV3.TRAJ20.TRAC;TGTGCTGTGCAACGTTCTAACGACTACAAGCTCAGCTTT_TRBV3-1.None.TRBJ2-3.TRBC2;TGTGCCAGCAGCCCCCCCCGCGGCGG\"| __truncated__ \"TRAV26-1.TRAJ53.TRAC;TGCATCGGCTCAAGTGGAGGTAGCAACTATAAACTGACATTT_TRBV4-1.None.TRBJ2-2.TRBC2;TRBV19.None.TRBJ1-5.\"| __truncated__ \"NA;NA_TRBV5-1.None.TRBJ1-2.TRBC1;TGCGCCAGCAGCTTGAGGGAAACCAACTATGGCTACACCTTC\" ...\n",
      " $ NA     :'data.frame':\t1278 obs. of  12 variables:\n",
      "  ..$ barcode : chr [1:1278] \"NA_AAACCTGAGGAATTAC-1\" \"NA_AAACCTGAGTTAGGTA-1\" \"NA_AAACCTGGTCGCTTCT-1\" \"NA_AAACCTGGTGGGTATG-1\" ...\n",
      "  ..$ sample  : chr [1:1278] NA NA NA NA ...\n",
      "  ..$ TCR1    : chr [1:1278] \"TRAV8-3.TRAJ4.TRAC\" NA \"TRAV2.TRAJ20.TRAC;TRAV12-1.TRAJ33.TRAC\" \"TRAV14/DV4.TRAJ49.TRAC\" ...\n",
      "  ..$ cdr3_aa1: chr [1:1278] \"CAVVPFSGGYNKLIF\" NA \"CAVEDLNDYKLSF;CVVNIEDVDSNYQLIW\" \"CAMRESDTGNQFYF\" ...\n",
      "  ..$ cdr3_nt1: chr [1:1278] \"TGTGCTGTGGTTCCGTTTTCTGGTGGCTACAATAAGCTGATTTTT\" NA \"TGTGCTGTGGAGGATCTAAACGACTACAAGCTCAGCTTT;TGTGTGGTGAACATAGAGGACGTGGATAGCAACTATCAGTTAATCTGG\" \"TGTGCAATGAGAGAGTCGGACACCGGTAACCAGTTCTATTTT\" ...\n",
      "  ..$ TCR2    : chr [1:1278] \"TRBV6-1.None.TRBJ2-3.TRBC2\" \"TRBV4-1.None.TRBJ2-5.TRBC2\" \"TRBV27.None.TRBJ2-1.TRBC2\" \"TRBV5-1.None.TRBJ2-3.TRBC2\" ...\n",
      "  ..$ cdr3_aa2: chr [1:1278] \"CASSGVLLAGGTDTQYF\" \"CASSQDNGVETQYF\" \"CASSLYNEQFF\" \"CASSSTGRGTTDTQYF\" ...\n",
      "  ..$ cdr3_nt2: chr [1:1278] \"TGTGCCAGCAGTGGGGTCCTCCTGGCGGGAGGGACAGATACGCAGTATTTT\" \"TGCGCCAGCAGCCAAGATAACGGGGTAGAGACCCAGTACTTC\" \"TGTGCCAGCAGTCTGTACAATGAGCAGTTCTTC\" \"TGCGCCAGCAGCTCCACAGGGAGGGGTACCACAGATACGCAGTATTTT\" ...\n",
      "  ..$ CTgene  : chr [1:1278] \"TRAV8-3.TRAJ4.TRAC_TRBV6-1.None.TRBJ2-3.TRBC2\" \"NA_TRBV4-1.None.TRBJ2-5.TRBC2\" \"TRAV2.TRAJ20.TRAC;TRAV12-1.TRAJ33.TRAC_TRBV27.None.TRBJ2-1.TRBC2\" \"TRAV14/DV4.TRAJ49.TRAC_TRBV5-1.None.TRBJ2-3.TRBC2\" ...\n",
      "  ..$ CTnt    : chr [1:1278] \"TGTGCTGTGGTTCCGTTTTCTGGTGGCTACAATAAGCTGATTTTT_TGTGCCAGCAGTGGGGTCCTCCTGGCGGGAGGGACAGATACGCAGTATTTT\" \"NA_TGCGCCAGCAGCCAAGATAACGGGGTAGAGACCCAGTACTTC\" \"TGTGCTGTGGAGGATCTAAACGACTACAAGCTCAGCTTT;TGTGTGGTGAACATAGAGGACGTGGATAGCAACTATCAGTTAATCTGG_TGTGCCAGCAGTCTGTACAATGAGCAGTTCTTC\" \"TGTGCAATGAGAGAGTCGGACACCGGTAACCAGTTCTATTTT_TGCGCCAGCAGCTCCACAGGGAGGGGTACCACAGATACGCAGTATTTT\" ...\n",
      "  ..$ CTaa    : chr [1:1278] \"CAVVPFSGGYNKLIF_CASSGVLLAGGTDTQYF\" \"NA_CASSQDNGVETQYF\" \"CAVEDLNDYKLSF;CVVNIEDVDSNYQLIW_CASSLYNEQFF\" \"CAMRESDTGNQFYF_CASSSTGRGTTDTQYF\" ...\n",
      "  ..$ CTstrict: chr [1:1278] \"TRAV8-3.TRAJ4.TRAC;TGTGCTGTGGTTCCGTTTTCTGGTGGCTACAATAAGCTGATTTTT_TRBV6-1.None.TRBJ2-3.TRBC2;TGTGCCAGCAGTGGGGTCC\"| __truncated__ \"NA;NA_TRBV4-1.None.TRBJ2-5.TRBC2;TGCGCCAGCAGCCAAGATAACGGGGTAGAGACCCAGTACTTC\" \"TRAV2.TRAJ20.TRAC;TRAV12-1.TRAJ33.TRAC;TGTGCTGTGGAGGATCTAAACGACTACAAGCTCAGCTTT;TGTGTGGTGAACATAGAGGACGTGGATAGCAA\"| __truncated__ \"TRAV14/DV4.TRAJ49.TRAC;TGTGCAATGAGAGAGTCGGACACCGGTAACCAGTTCTATTTT_TRBV5-1.None.TRBJ2-3.TRBC2;TGCGCCAGCAGCTCCACA\"| __truncated__ ...\n",
      " $ NA     :'data.frame':\t6942 obs. of  12 variables:\n",
      "  ..$ barcode : chr [1:6942] \"NA_AAACCTGAGATCGATA-1\" \"NA_AAACCTGAGCCAGGAT-1\" \"NA_AAACCTGAGGACATTA-1\" \"NA_AAACCTGAGGCCATAG-1\" ...\n",
      "  ..$ sample  : chr [1:6942] NA NA NA NA ...\n",
      "  ..$ TCR1    : chr [1:6942] \"TRAV9-2.TRAJ22.TRAC\" \"TRAV3.TRAJ22.TRAC\" \"TRAV12-2.TRAJ12.TRAC\" NA ...\n",
      "  ..$ cdr3_aa1: chr [1:6942] \"CALSTSGSARQLTF\" \"CAVRETGSARQLTF\" \"CARKVRDSSYKLIF\" NA ...\n",
      "  ..$ cdr3_nt1: chr [1:6942] \"TGTGCTCTGTCGACTTCTGGTTCTGCAAGGCAACTGACCTTT\" \"TGTGCTGTGAGAGAAACCGGTTCTGCAAGGCAACTGACCTTT\" \"TGTGCCCGGAAGGTTAGGGATAGCAGCTATAAATTGATCTTC\" NA ...\n",
      "  ..$ TCR2    : chr [1:6942] \"TRBV5-4.None.TRBJ2-3.TRBC2\" \"TRBV5-1.None.TRBJ2-1.TRBC2\" \"TRBV6-4.None.TRBJ2-1.TRBC2\" \"TRBV6-1.None.TRBJ2-3.TRBC2\" ...\n",
      "  ..$ cdr3_aa2: chr [1:6942] \"CASSLGGGTDTQYF\" \"CASSPMTSGNNEQFF\" \"CASSDSGYNEQFF\" \"CASSEGQGRSTDTQYF\" ...\n",
      "  ..$ cdr3_nt2: chr [1:6942] \"TGTGCCAGCAGCTTGGGAGGGGGCACAGATACGCAGTATTTT\" \"TGCGCCAGCAGCCCTATGACTAGCGGGAACAATGAGCAGTTCTTC\" \"TGTGCCAGCAGTGACTCCGGATACAATGAGCAGTTCTTC\" \"TGTGCCAGCAGTGAAGGACAGGGGAGAAGCACAGATACGCAGTATTTT\" ...\n",
      "  ..$ CTgene  : chr [1:6942] \"TRAV9-2.TRAJ22.TRAC_TRBV5-4.None.TRBJ2-3.TRBC2\" \"TRAV3.TRAJ22.TRAC_TRBV5-1.None.TRBJ2-1.TRBC2\" \"TRAV12-2.TRAJ12.TRAC_TRBV6-4.None.TRBJ2-1.TRBC2\" \"NA_TRBV6-1.None.TRBJ2-3.TRBC2\" ...\n",
      "  ..$ CTnt    : chr [1:6942] \"TGTGCTCTGTCGACTTCTGGTTCTGCAAGGCAACTGACCTTT_TGTGCCAGCAGCTTGGGAGGGGGCACAGATACGCAGTATTTT\" \"TGTGCTGTGAGAGAAACCGGTTCTGCAAGGCAACTGACCTTT_TGCGCCAGCAGCCCTATGACTAGCGGGAACAATGAGCAGTTCTTC\" \"TGTGCCCGGAAGGTTAGGGATAGCAGCTATAAATTGATCTTC_TGTGCCAGCAGTGACTCCGGATACAATGAGCAGTTCTTC\" \"NA_TGTGCCAGCAGTGAAGGACAGGGGAGAAGCACAGATACGCAGTATTTT\" ...\n",
      "  ..$ CTaa    : chr [1:6942] \"CALSTSGSARQLTF_CASSLGGGTDTQYF\" \"CAVRETGSARQLTF_CASSPMTSGNNEQFF\" \"CARKVRDSSYKLIF_CASSDSGYNEQFF\" \"NA_CASSEGQGRSTDTQYF\" ...\n",
      "  ..$ CTstrict: chr [1:6942] \"TRAV9-2.TRAJ22.TRAC;TGTGCTCTGTCGACTTCTGGTTCTGCAAGGCAACTGACCTTT_TRBV5-4.None.TRBJ2-3.TRBC2;TGTGCCAGCAGCTTGGGAGGG\"| __truncated__ \"TRAV3.TRAJ22.TRAC;TGTGCTGTGAGAGAAACCGGTTCTGCAAGGCAACTGACCTTT_TRBV5-1.None.TRBJ2-1.TRBC2;TGCGCCAGCAGCCCTATGACTAG\"| __truncated__ \"TRAV12-2.TRAJ12.TRAC;TGTGCCCGGAAGGTTAGGGATAGCAGCTATAAATTGATCTTC_TRBV6-4.None.TRBJ2-1.TRBC2;TGTGCCAGCAGTGACTCCGG\"| __truncated__ \"NA;NA_TRBV6-1.None.TRBJ2-3.TRBC2;TGTGCCAGCAGTGAAGGACAGGGGAGAAGCACAGATACGCAGTATTTT\" ...\n",
      " $ NA     :'data.frame':\t2747 obs. of  12 variables:\n",
      "  ..$ barcode : chr [1:2747] \"NA_AAACCTGAGCTAGTCT-1\" \"NA_AAACCTGAGGAGTACC-1\" \"NA_AAACCTGCATGCCACG-1\" \"NA_AAACCTGGTACCGTAT-1\" ...\n",
      "  ..$ sample  : chr [1:2747] NA NA NA NA ...\n",
      "  ..$ TCR1    : chr [1:2747] \"TRAV4.TRAJ10.TRAC\" \"TRAV21.TRAJ41.TRAC\" NA \"TRAV9-2.TRAJ3.TRAC\" ...\n",
      "  ..$ cdr3_aa1: chr [1:2747] \"CLVGDRITGGGNKLTF\" \"CAMLSNSGYALNF\" NA \"CALRDEYSSASKIIF\" ...\n",
      "  ..$ cdr3_nt1: chr [1:2747] \"TGCCTCGTGGGTGACAGGATCACGGGAGGAGGAAACAAACTCACCTTT\" \"TGTGCCATGCTCTCAAATTCCGGGTATGCACTCAACTTC\" NA \"TGTGCTCTGAGAGACGAGTACAGCAGTGCTTCCAAGATAATCTTT\" ...\n",
      "  ..$ TCR2    : chr [1:2747] \"TRBV3-1.None.TRBJ2-5.TRBC2;TRBV6-5.None.TRBJ2-2.TRBC2\" \"TRBV19.None.TRBJ2-1.TRBC2\" \"TRBV6-6.None.TRBJ2-1.TRBC2\" \"TRBV27.None.TRBJ2-7.TRBC2\" ...\n",
      "  ..$ cdr3_aa2: chr [1:2747] \"CASSQGVSGGVPGTQYF;CASSYSTRGFNTGELFF\" \"CASTWAAGGYNEQFF\" \"CASSWPQGTSGEPFYNEQFF\" \"CASSFGSYEQYF\" ...\n",
      "  ..$ cdr3_nt2: chr [1:2747] \"TGTGCCAGCAGCCAAGGGGTCAGCGGAGGGGTCCCGGGGACCCAGTACTTC;TGTGCCAGCAGTTACTCGACCAGGGGCTTTAACACCGGGGAGCTGTTTTTT\" \"TGTGCCAGTACATGGGCGGCGGGAGGATACAATGAGCAGTTCTTC\" \"TGTGCCAGCAGTTGGCCCCAGGGAACTAGCGGGGAGCCGTTTTACAATGAGCAGTTCTTC\" \"TGTGCCAGCAGTTTTGGCTCCTACGAGCAGTACTTC\" ...\n",
      "  ..$ CTgene  : chr [1:2747] \"TRAV4.TRAJ10.TRAC_TRBV3-1.None.TRBJ2-5.TRBC2;TRBV6-5.None.TRBJ2-2.TRBC2\" \"TRAV21.TRAJ41.TRAC_TRBV19.None.TRBJ2-1.TRBC2\" \"NA_TRBV6-6.None.TRBJ2-1.TRBC2\" \"TRAV9-2.TRAJ3.TRAC_TRBV27.None.TRBJ2-7.TRBC2\" ...\n",
      "  ..$ CTnt    : chr [1:2747] \"TGCCTCGTGGGTGACAGGATCACGGGAGGAGGAAACAAACTCACCTTT_TGTGCCAGCAGCCAAGGGGTCAGCGGAGGGGTCCCGGGGACCCAGTACTTC;TGTGCCAGCA\"| __truncated__ \"TGTGCCATGCTCTCAAATTCCGGGTATGCACTCAACTTC_TGTGCCAGTACATGGGCGGCGGGAGGATACAATGAGCAGTTCTTC\" \"NA_TGTGCCAGCAGTTGGCCCCAGGGAACTAGCGGGGAGCCGTTTTACAATGAGCAGTTCTTC\" \"TGTGCTCTGAGAGACGAGTACAGCAGTGCTTCCAAGATAATCTTT_TGTGCCAGCAGTTTTGGCTCCTACGAGCAGTACTTC\" ...\n",
      "  ..$ CTaa    : chr [1:2747] \"CLVGDRITGGGNKLTF_CASSQGVSGGVPGTQYF;CASSYSTRGFNTGELFF\" \"CAMLSNSGYALNF_CASTWAAGGYNEQFF\" \"NA_CASSWPQGTSGEPFYNEQFF\" \"CALRDEYSSASKIIF_CASSFGSYEQYF\" ...\n",
      "  ..$ CTstrict: chr [1:2747] \"TRAV4.TRAJ10.TRAC;TGCCTCGTGGGTGACAGGATCACGGGAGGAGGAAACAAACTCACCTTT_TRBV3-1.None.TRBJ2-5.TRBC2;TRBV6-5.None.TRBJ\"| __truncated__ \"TRAV21.TRAJ41.TRAC;TGTGCCATGCTCTCAAATTCCGGGTATGCACTCAACTTC_TRBV19.None.TRBJ2-1.TRBC2;TGTGCCAGTACATGGGCGGCGGGAGG\"| __truncated__ \"NA;NA_TRBV6-6.None.TRBJ2-1.TRBC2;TGTGCCAGCAGTTGGCCCCAGGGAACTAGCGGGGAGCCGTTTTACAATGAGCAGTTCTTC\" \"TRAV9-2.TRAJ3.TRAC;TGTGCTCTGAGAGACGAGTACAGCAGTGCTTCCAAGATAATCTTT_TRBV27.None.TRBJ2-7.TRBC2;TGTGCCAGCAGTTTTGGCTC\"| __truncated__ ...\n",
      " $ NA     :'data.frame':\t8991 obs. of  12 variables:\n",
      "  ..$ barcode : chr [1:8991] \"NA_AAACCTGAGTCCCACG-1\" \"NA_AAACCTGAGTTTCCTT-1\" \"NA_AAACCTGCACACGCTG-1\" \"NA_AAACCTGCATGCTAGT-1\" ...\n",
      "  ..$ sample  : chr [1:8991] NA NA NA NA ...\n",
      "  ..$ TCR1    : chr [1:8991] \"TRAV13-2.TRAJ15.TRAC\" \"TRAV20.TRAJ50.TRAC\" \"TRAV1-2.TRAJ8.TRAC\" NA ...\n",
      "  ..$ cdr3_aa1: chr [1:8991] \"CAENQAGTALIF\" \"CAVQAASYDKVIF\" \"CAVRDDGNTGFQKLVF\" NA ...\n",
      "  ..$ cdr3_nt1: chr [1:8991] \"TGTGCAGAGAACCAGGCAGGAACTGCTCTGATCTTT\" \"TGTGCTGTGCAGGCCGCCTCCTACGACAAGGTGATATTT\" \"TGTGCTGTGAGAGATGACGGGAACACAGGCTTTCAGAAACTTGTATTT\" NA ...\n",
      "  ..$ TCR2    : chr [1:8991] \"TRBV12-4.None.TRBJ1-1.None\" \"TRBV6-1.None.TRBJ1-3.TRBC1\" \"TRBV3-1.None.TRBJ2-4.TRBC2\" \"TRBV5-6.None.TRBJ2-7.TRBC2\" ...\n",
      "  ..$ cdr3_aa2: chr [1:8991] \"CASRHMNTEAFF\" \"CATAPRTSSGNTIYF\" \"CASSQDFNDGGLNIQYF\" \"CASSSQTSGAYEQYF\" ...\n",
      "  ..$ cdr3_nt2: chr [1:8991] \"TGTGCCAGCCGCCATATGAACACTGAAGCTTTCTTT\" \"TGTGCCACGGCGCCCAGGACGAGCTCTGGAAACACCATATATTTT\" \"TGTGCCAGCAGCCAAGATTTTAACGACGGGGGCTTAAACATTCAGTACTTC\" \"TGTGCCAGCAGCTCGCAGACTAGCGGGGCCTACGAGCAGTACTTC\" ...\n",
      "  ..$ CTgene  : chr [1:8991] \"TRAV13-2.TRAJ15.TRAC_TRBV12-4.None.TRBJ1-1.None\" \"TRAV20.TRAJ50.TRAC_TRBV6-1.None.TRBJ1-3.TRBC1\" \"TRAV1-2.TRAJ8.TRAC_TRBV3-1.None.TRBJ2-4.TRBC2\" \"NA_TRBV5-6.None.TRBJ2-7.TRBC2\" ...\n",
      "  ..$ CTnt    : chr [1:8991] \"TGTGCAGAGAACCAGGCAGGAACTGCTCTGATCTTT_TGTGCCAGCCGCCATATGAACACTGAAGCTTTCTTT\" \"TGTGCTGTGCAGGCCGCCTCCTACGACAAGGTGATATTT_TGTGCCACGGCGCCCAGGACGAGCTCTGGAAACACCATATATTTT\" \"TGTGCTGTGAGAGATGACGGGAACACAGGCTTTCAGAAACTTGTATTT_TGTGCCAGCAGCCAAGATTTTAACGACGGGGGCTTAAACATTCAGTACTTC\" \"NA_TGTGCCAGCAGCTCGCAGACTAGCGGGGCCTACGAGCAGTACTTC\" ...\n",
      "  ..$ CTaa    : chr [1:8991] \"CAENQAGTALIF_CASRHMNTEAFF\" \"CAVQAASYDKVIF_CATAPRTSSGNTIYF\" \"CAVRDDGNTGFQKLVF_CASSQDFNDGGLNIQYF\" \"NA_CASSSQTSGAYEQYF\" ...\n",
      "  ..$ CTstrict: chr [1:8991] \"TRAV13-2.TRAJ15.TRAC;TGTGCAGAGAACCAGGCAGGAACTGCTCTGATCTTT_TRBV12-4.None.TRBJ1-1.None;TGTGCCAGCCGCCATATGAACACTGAAGCTTTCTTT\" \"TRAV20.TRAJ50.TRAC;TGTGCTGTGCAGGCCGCCTCCTACGACAAGGTGATATTT_TRBV6-1.None.TRBJ1-3.TRBC1;TGTGCCACGGCGCCCAGGACGAGCT\"| __truncated__ \"TRAV1-2.TRAJ8.TRAC;TGTGCTGTGAGAGATGACGGGAACACAGGCTTTCAGAAACTTGTATTT_TRBV3-1.None.TRBJ2-4.TRBC2;TGTGCCAGCAGCCAAG\"| __truncated__ \"NA;NA_TRBV5-6.None.TRBJ2-7.TRBC2;TGTGCCAGCAGCTCGCAGACTAGCGGGGCCTACGAGCAGTACTTC\" ...\n",
      " $ NA     :'data.frame':\t201 obs. of  12 variables:\n",
      "  ..$ barcode : chr [1:201] \"NA_AAACCTGAGGATGGAA-1\" \"NA_AAACGGGCACACCGCA-1\" \"NA_AAAGCAAGTCGTGGCT-1\" \"NA_AACGTTGGTGTATGGG-1\" ...\n",
      "  ..$ sample  : chr [1:201] NA NA NA NA ...\n",
      "  ..$ TCR1    : chr [1:201] \"TRAV1-2.TRAJ10.TRAC\" \"TRAV8-4.TRAJ53.TRAC\" \"TRAV27.TRAJ29.TRAC\" \"TRAV29/DV5.TRAJ37.TRAC\" ...\n",
      "  ..$ cdr3_aa1: chr [1:201] \"CAVRDPTGGGNKLTF\" \"CAVSRGGSNYKLTF\" \"CAGPTGRNTPLVF\" \"CAAKGGNTGKLIF\" ...\n",
      "  ..$ cdr3_nt1: chr [1:201] \"TGTGCTGTGAGGGATCCCACGGGAGGAGGAAACAAACTCACCTTT\" \"TGTGCTGTGAGTAGGGGAGGTAGCAACTATAAACTGACATTT\" \"TGTGCAGGACCCACCGGGAGAAACACACCTCTTGTCTTT\" \"TGTGCAGCAAAGGGGGGCAACACAGGCAAACTAATCTTT\" ...\n",
      "  ..$ TCR2    : chr [1:201] NA \"TRBV5-4.None.TRBJ2-3.TRBC2\" \"TRBV20-1.None.TRBJ1-5.TRBC1\" \"TRBV7-2.None.TRBJ1-3.TRBC1\" ...\n",
      "  ..$ cdr3_aa2: chr [1:201] NA \"CASSLGSIGATDTQYF\" \"CSARDQGQPQHF\" \"CASSFGSPLSGNTIYF\" ...\n",
      "  ..$ cdr3_nt2: chr [1:201] NA \"TGTGCCAGCAGCTTGGGCTCGATAGGGGCTACAGATACGCAGTATTTT\" \"TGCAGTGCTAGAGATCAAGGTCAGCCCCAGCATTTT\" \"TGTGCCAGCAGCTTCGGCAGCCCTCTCTCTGGAAACACCATATATTTT\" ...\n",
      "  ..$ CTgene  : chr [1:201] \"TRAV1-2.TRAJ10.TRAC_NA\" \"TRAV8-4.TRAJ53.TRAC_TRBV5-4.None.TRBJ2-3.TRBC2\" \"TRAV27.TRAJ29.TRAC_TRBV20-1.None.TRBJ1-5.TRBC1\" \"TRAV29/DV5.TRAJ37.TRAC_TRBV7-2.None.TRBJ1-3.TRBC1\" ...\n",
      "  ..$ CTnt    : chr [1:201] \"TGTGCTGTGAGGGATCCCACGGGAGGAGGAAACAAACTCACCTTT_NA\" \"TGTGCTGTGAGTAGGGGAGGTAGCAACTATAAACTGACATTT_TGTGCCAGCAGCTTGGGCTCGATAGGGGCTACAGATACGCAGTATTTT\" \"TGTGCAGGACCCACCGGGAGAAACACACCTCTTGTCTTT_TGCAGTGCTAGAGATCAAGGTCAGCCCCAGCATTTT\" \"TGTGCAGCAAAGGGGGGCAACACAGGCAAACTAATCTTT_TGTGCCAGCAGCTTCGGCAGCCCTCTCTCTGGAAACACCATATATTTT\" ...\n",
      "  ..$ CTaa    : chr [1:201] \"CAVRDPTGGGNKLTF_NA\" \"CAVSRGGSNYKLTF_CASSLGSIGATDTQYF\" \"CAGPTGRNTPLVF_CSARDQGQPQHF\" \"CAAKGGNTGKLIF_CASSFGSPLSGNTIYF\" ...\n",
      "  ..$ CTstrict: chr [1:201] \"TRAV1-2.TRAJ10.TRAC;TGTGCTGTGAGGGATCCCACGGGAGGAGGAAACAAACTCACCTTT_NA;NA\" \"TRAV8-4.TRAJ53.TRAC;TGTGCTGTGAGTAGGGGAGGTAGCAACTATAAACTGACATTT_TRBV5-4.None.TRBJ2-3.TRBC2;TGTGCCAGCAGCTTGGGCTCG\"| __truncated__ \"TRAV27.TRAJ29.TRAC;TGTGCAGGACCCACCGGGAGAAACACACCTCTTGTCTTT_TRBV20-1.None.TRBJ1-5.TRBC1;TGCAGTGCTAGAGATCAAGGTCAGCCCCAGCATTTT\" \"TRAV29/DV5.TRAJ37.TRAC;TGTGCAGCAAAGGGGGGCAACACAGGCAAACTAATCTTT_TRBV7-2.None.TRBJ1-3.TRBC1;TGTGCCAGCAGCTTCGGCAGC\"| __truncated__ ...\n"
     ]
    },
    {
     "data": {
      "text/plain": [
       "NULL"
      ]
     },
     "metadata": {},
     "output_type": "display_data"
    }
   ],
   "source": [
    "# View the structure of the combined data\n",
    "# str(combined_tcr)\n",
    "\n",
    "# Preview the first few rows\n",
    "head(str(combined_tcr))\n"
   ]
  },
  {
   "cell_type": "code",
   "execution_count": 5,
   "metadata": {
    "vscode": {
     "languageId": "r"
    }
   },
   "outputs": [
    {
     "data": {
      "text/html": [
       "<table class=\"dataframe\">\n",
       "<caption>A data.frame: 6 × 12</caption>\n",
       "<thead>\n",
       "\t<tr><th></th><th scope=col>barcode</th><th scope=col>sample</th><th scope=col>TCR1</th><th scope=col>cdr3_aa1</th><th scope=col>cdr3_nt1</th><th scope=col>TCR2</th><th scope=col>cdr3_aa2</th><th scope=col>cdr3_nt2</th><th scope=col>CTgene</th><th scope=col>CTnt</th><th scope=col>CTaa</th><th scope=col>CTstrict</th></tr>\n",
       "\t<tr><th></th><th scope=col>&lt;chr&gt;</th><th scope=col>&lt;chr&gt;</th><th scope=col>&lt;chr&gt;</th><th scope=col>&lt;chr&gt;</th><th scope=col>&lt;chr&gt;</th><th scope=col>&lt;chr&gt;</th><th scope=col>&lt;chr&gt;</th><th scope=col>&lt;chr&gt;</th><th scope=col>&lt;chr&gt;</th><th scope=col>&lt;chr&gt;</th><th scope=col>&lt;chr&gt;</th><th scope=col>&lt;chr&gt;</th></tr>\n",
       "</thead>\n",
       "<tbody>\n",
       "\t<tr><th scope=row>1</th><td>NA_AAACCTGAGGCTCAGA-1</td><td>NA</td><td>TRAV26-1.TRAJ37.TRAC</td><td>CIVRGGSSNTGKLIF </td><td>TGCATCGTCAGGGGCGGCTCTAGCAACACAGGCAAACTAATCTTT   </td><td>TRBV6-1.None.TRBJ2-3.TRBC2                           </td><td>CASIGRSFGRDTQYF               </td><td>TGTGCCAGTATCGGGAGGTCCTTTGGCCGAGATACGCAGTATTTT                                           </td><td>TRAV26-1.TRAJ37.TRAC_TRBV6-1.None.TRBJ2-3.TRBC2                          </td><td>TGCATCGTCAGGGGCGGCTCTAGCAACACAGGCAAACTAATCTTT_TGTGCCAGTATCGGGAGGTCCTTTGGCCGAGATACGCAGTATTTT                                              </td><td>CIVRGGSSNTGKLIF_CASIGRSFGRDTQYF                </td><td>TRAV26-1.TRAJ37.TRAC;TGCATCGTCAGGGGCGGCTCTAGCAACACAGGCAAACTAATCTTT_TRBV6-1.None.TRBJ2-3.TRBC2;TGTGCCAGTATCGGGAGGTCCTTTGGCCGAGATACGCAGTATTTT                                                                      </td></tr>\n",
       "\t<tr><th scope=row>3</th><td>NA_AAACCTGCATGACATC-1</td><td>NA</td><td>TRAV3.TRAJ20.TRAC   </td><td>CAVQRSNDYKLSF   </td><td>TGTGCTGTGCAACGTTCTAACGACTACAAGCTCAGCTTT         </td><td>TRBV3-1.None.TRBJ2-3.TRBC2                           </td><td>CASSPPRGGFTDTQYF              </td><td>TGTGCCAGCAGCCCCCCCCGCGGCGGATTCACAGATACGCAGTATTTT                                        </td><td>TRAV3.TRAJ20.TRAC_TRBV3-1.None.TRBJ2-3.TRBC2                             </td><td>TGTGCTGTGCAACGTTCTAACGACTACAAGCTCAGCTTT_TGTGCCAGCAGCCCCCCCCGCGGCGGATTCACAGATACGCAGTATTTT                                                 </td><td>CAVQRSNDYKLSF_CASSPPRGGFTDTQYF                 </td><td>TRAV3.TRAJ20.TRAC;TGTGCTGTGCAACGTTCTAACGACTACAAGCTCAGCTTT_TRBV3-1.None.TRBJ2-3.TRBC2;TGTGCCAGCAGCCCCCCCCGCGGCGGATTCACAGATACGCAGTATTTT                                                                            </td></tr>\n",
       "\t<tr><th scope=row>5</th><td>NA_AAACCTGGTATGCTTG-1</td><td>NA</td><td>TRAV26-1.TRAJ53.TRAC</td><td>CIGSSGGSNYKLTF  </td><td>TGCATCGGCTCAAGTGGAGGTAGCAACTATAAACTGACATTT      </td><td>TRBV4-1.None.TRBJ2-2.TRBC2;TRBV19.None.TRBJ1-5.TRBC1 </td><td>CASSQGGQGGRELFF;CASSYAVGRQPQHF</td><td>TGCGCCAGCAGCCAAGGTGGACAGGGCGGAAGGGAGCTGTTTTTT;TGTGCCAGTAGCTACGCGGTGGGGAGGCAGCCCCAGCATTTT</td><td>TRAV26-1.TRAJ53.TRAC_TRBV4-1.None.TRBJ2-2.TRBC2;TRBV19.None.TRBJ1-5.TRBC1</td><td>TGCATCGGCTCAAGTGGAGGTAGCAACTATAAACTGACATTT_TGCGCCAGCAGCCAAGGTGGACAGGGCGGAAGGGAGCTGTTTTTT;TGTGCCAGTAGCTACGCGGTGGGGAGGCAGCCCCAGCATTTT      </td><td>CIGSSGGSNYKLTF_CASSQGGQGGRELFF;CASSYAVGRQPQHF  </td><td>TRAV26-1.TRAJ53.TRAC;TGCATCGGCTCAAGTGGAGGTAGCAACTATAAACTGACATTT_TRBV4-1.None.TRBJ2-2.TRBC2;TRBV19.None.TRBJ1-5.TRBC1;TGCGCCAGCAGCCAAGGTGGACAGGGCGGAAGGGAGCTGTTTTTT;TGTGCCAGTAGCTACGCGGTGGGGAGGCAGCCCCAGCATTTT    </td></tr>\n",
       "\t<tr><th scope=row>8</th><td>NA_AAACGGGCAGATGGGT-1</td><td>NA</td><td>NA                  </td><td>NA              </td><td>NA                                              </td><td>TRBV5-1.None.TRBJ1-2.TRBC1                           </td><td>CASSLRETNYGYTF                </td><td>TGCGCCAGCAGCTTGAGGGAAACCAACTATGGCTACACCTTC                                              </td><td>NA_TRBV5-1.None.TRBJ1-2.TRBC1                                            </td><td>NA_TGCGCCAGCAGCTTGAGGGAAACCAACTATGGCTACACCTTC                                                                                            </td><td>NA_CASSLRETNYGYTF                              </td><td>NA;NA_TRBV5-1.None.TRBJ1-2.TRBC1;TGCGCCAGCAGCTTGAGGGAAACCAACTATGGCTACACCTTC                                                                                                                                      </td></tr>\n",
       "\t<tr><th scope=row>9</th><td>NA_AAACGGGTCTTACCGC-1</td><td>NA</td><td>TRAV20.TRAJ9.TRAC   </td><td>CAVQAKRYTGGFKTIF</td><td>TGTGCTGTGCAGGCCAAGCGGTATACTGGAGGCTTCAAAACTATCTTT</td><td>TRBV5-1.None.TRBJ1-1.TRBC1;TRBV7-9.None.TRBJ2-2.TRBC2</td><td>CASSLGTGTGVEAFF;CAIDPGLLTGELFF</td><td>TGCGCCAGCAGCTTGGGAACGGGGACAGGGGTTGAAGCTTTCTTT;TGTGCCATCGATCCGGGACTACTCACCGGGGAGCTGTTTTTT</td><td>TRAV20.TRAJ9.TRAC_TRBV5-1.None.TRBJ1-1.TRBC1;TRBV7-9.None.TRBJ2-2.TRBC2  </td><td>TGTGCTGTGCAGGCCAAGCGGTATACTGGAGGCTTCAAAACTATCTTT_TGCGCCAGCAGCTTGGGAACGGGGACAGGGGTTGAAGCTTTCTTT;TGTGCCATCGATCCGGGACTACTCACCGGGGAGCTGTTTTTT</td><td>CAVQAKRYTGGFKTIF_CASSLGTGTGVEAFF;CAIDPGLLTGELFF</td><td>TRAV20.TRAJ9.TRAC;TGTGCTGTGCAGGCCAAGCGGTATACTGGAGGCTTCAAAACTATCTTT_TRBV5-1.None.TRBJ1-1.TRBC1;TRBV7-9.None.TRBJ2-2.TRBC2;TGCGCCAGCAGCTTGGGAACGGGGACAGGGGTTGAAGCTTTCTTT;TGTGCCATCGATCCGGGACTACTCACCGGGGAGCTGTTTTTT</td></tr>\n",
       "\t<tr><th scope=row>12</th><td>NA_AAAGATGAGTTACGGG-1</td><td>NA</td><td>TRAV8-3.TRAJ8.TRAC  </td><td>CAVGGDTGFQKLVF  </td><td>TGTGCTGTGGGTGGTGACACAGGCTTTCAGAAACTTGTATTT      </td><td>TRBV12-4.None.TRBJ1-1.TRBC1                          </td><td>CASRNSQATEAFF                 </td><td>TGTGCCAGCAGAAACTCCCAAGCCACTGAAGCTTTCTTT                                                 </td><td>TRAV8-3.TRAJ8.TRAC_TRBV12-4.None.TRBJ1-1.TRBC1                           </td><td>TGTGCTGTGGGTGGTGACACAGGCTTTCAGAAACTTGTATTT_TGTGCCAGCAGAAACTCCCAAGCCACTGAAGCTTTCTTT                                                       </td><td>CAVGGDTGFQKLVF_CASRNSQATEAFF                   </td><td>TRAV8-3.TRAJ8.TRAC;TGTGCTGTGGGTGGTGACACAGGCTTTCAGAAACTTGTATTT_TRBV12-4.None.TRBJ1-1.TRBC1;TGTGCCAGCAGAAACTCCCAAGCCACTGAAGCTTTCTTT                                                                                </td></tr>\n",
       "</tbody>\n",
       "</table>\n"
      ],
      "text/latex": [
       "A data.frame: 6 × 12\n",
       "\\begin{tabular}{r|llllllllllll}\n",
       "  & barcode & sample & TCR1 & cdr3\\_aa1 & cdr3\\_nt1 & TCR2 & cdr3\\_aa2 & cdr3\\_nt2 & CTgene & CTnt & CTaa & CTstrict\\\\\n",
       "  & <chr> & <chr> & <chr> & <chr> & <chr> & <chr> & <chr> & <chr> & <chr> & <chr> & <chr> & <chr>\\\\\n",
       "\\hline\n",
       "\t1 & NA\\_AAACCTGAGGCTCAGA-1 & NA & TRAV26-1.TRAJ37.TRAC & CIVRGGSSNTGKLIF  & TGCATCGTCAGGGGCGGCTCTAGCAACACAGGCAAACTAATCTTT    & TRBV6-1.None.TRBJ2-3.TRBC2                            & CASIGRSFGRDTQYF                & TGTGCCAGTATCGGGAGGTCCTTTGGCCGAGATACGCAGTATTTT                                            & TRAV26-1.TRAJ37.TRAC\\_TRBV6-1.None.TRBJ2-3.TRBC2                           & TGCATCGTCAGGGGCGGCTCTAGCAACACAGGCAAACTAATCTTT\\_TGTGCCAGTATCGGGAGGTCCTTTGGCCGAGATACGCAGTATTTT                                               & CIVRGGSSNTGKLIF\\_CASIGRSFGRDTQYF                 & TRAV26-1.TRAJ37.TRAC;TGCATCGTCAGGGGCGGCTCTAGCAACACAGGCAAACTAATCTTT\\_TRBV6-1.None.TRBJ2-3.TRBC2;TGTGCCAGTATCGGGAGGTCCTTTGGCCGAGATACGCAGTATTTT                                                                      \\\\\n",
       "\t3 & NA\\_AAACCTGCATGACATC-1 & NA & TRAV3.TRAJ20.TRAC    & CAVQRSNDYKLSF    & TGTGCTGTGCAACGTTCTAACGACTACAAGCTCAGCTTT          & TRBV3-1.None.TRBJ2-3.TRBC2                            & CASSPPRGGFTDTQYF               & TGTGCCAGCAGCCCCCCCCGCGGCGGATTCACAGATACGCAGTATTTT                                         & TRAV3.TRAJ20.TRAC\\_TRBV3-1.None.TRBJ2-3.TRBC2                              & TGTGCTGTGCAACGTTCTAACGACTACAAGCTCAGCTTT\\_TGTGCCAGCAGCCCCCCCCGCGGCGGATTCACAGATACGCAGTATTTT                                                  & CAVQRSNDYKLSF\\_CASSPPRGGFTDTQYF                  & TRAV3.TRAJ20.TRAC;TGTGCTGTGCAACGTTCTAACGACTACAAGCTCAGCTTT\\_TRBV3-1.None.TRBJ2-3.TRBC2;TGTGCCAGCAGCCCCCCCCGCGGCGGATTCACAGATACGCAGTATTTT                                                                            \\\\\n",
       "\t5 & NA\\_AAACCTGGTATGCTTG-1 & NA & TRAV26-1.TRAJ53.TRAC & CIGSSGGSNYKLTF   & TGCATCGGCTCAAGTGGAGGTAGCAACTATAAACTGACATTT       & TRBV4-1.None.TRBJ2-2.TRBC2;TRBV19.None.TRBJ1-5.TRBC1  & CASSQGGQGGRELFF;CASSYAVGRQPQHF & TGCGCCAGCAGCCAAGGTGGACAGGGCGGAAGGGAGCTGTTTTTT;TGTGCCAGTAGCTACGCGGTGGGGAGGCAGCCCCAGCATTTT & TRAV26-1.TRAJ53.TRAC\\_TRBV4-1.None.TRBJ2-2.TRBC2;TRBV19.None.TRBJ1-5.TRBC1 & TGCATCGGCTCAAGTGGAGGTAGCAACTATAAACTGACATTT\\_TGCGCCAGCAGCCAAGGTGGACAGGGCGGAAGGGAGCTGTTTTTT;TGTGCCAGTAGCTACGCGGTGGGGAGGCAGCCCCAGCATTTT       & CIGSSGGSNYKLTF\\_CASSQGGQGGRELFF;CASSYAVGRQPQHF   & TRAV26-1.TRAJ53.TRAC;TGCATCGGCTCAAGTGGAGGTAGCAACTATAAACTGACATTT\\_TRBV4-1.None.TRBJ2-2.TRBC2;TRBV19.None.TRBJ1-5.TRBC1;TGCGCCAGCAGCCAAGGTGGACAGGGCGGAAGGGAGCTGTTTTTT;TGTGCCAGTAGCTACGCGGTGGGGAGGCAGCCCCAGCATTTT    \\\\\n",
       "\t8 & NA\\_AAACGGGCAGATGGGT-1 & NA & NA                   & NA               & NA                                               & TRBV5-1.None.TRBJ1-2.TRBC1                            & CASSLRETNYGYTF                 & TGCGCCAGCAGCTTGAGGGAAACCAACTATGGCTACACCTTC                                               & NA\\_TRBV5-1.None.TRBJ1-2.TRBC1                                             & NA\\_TGCGCCAGCAGCTTGAGGGAAACCAACTATGGCTACACCTTC                                                                                             & NA\\_CASSLRETNYGYTF                               & NA;NA\\_TRBV5-1.None.TRBJ1-2.TRBC1;TGCGCCAGCAGCTTGAGGGAAACCAACTATGGCTACACCTTC                                                                                                                                      \\\\\n",
       "\t9 & NA\\_AAACGGGTCTTACCGC-1 & NA & TRAV20.TRAJ9.TRAC    & CAVQAKRYTGGFKTIF & TGTGCTGTGCAGGCCAAGCGGTATACTGGAGGCTTCAAAACTATCTTT & TRBV5-1.None.TRBJ1-1.TRBC1;TRBV7-9.None.TRBJ2-2.TRBC2 & CASSLGTGTGVEAFF;CAIDPGLLTGELFF & TGCGCCAGCAGCTTGGGAACGGGGACAGGGGTTGAAGCTTTCTTT;TGTGCCATCGATCCGGGACTACTCACCGGGGAGCTGTTTTTT & TRAV20.TRAJ9.TRAC\\_TRBV5-1.None.TRBJ1-1.TRBC1;TRBV7-9.None.TRBJ2-2.TRBC2   & TGTGCTGTGCAGGCCAAGCGGTATACTGGAGGCTTCAAAACTATCTTT\\_TGCGCCAGCAGCTTGGGAACGGGGACAGGGGTTGAAGCTTTCTTT;TGTGCCATCGATCCGGGACTACTCACCGGGGAGCTGTTTTTT & CAVQAKRYTGGFKTIF\\_CASSLGTGTGVEAFF;CAIDPGLLTGELFF & TRAV20.TRAJ9.TRAC;TGTGCTGTGCAGGCCAAGCGGTATACTGGAGGCTTCAAAACTATCTTT\\_TRBV5-1.None.TRBJ1-1.TRBC1;TRBV7-9.None.TRBJ2-2.TRBC2;TGCGCCAGCAGCTTGGGAACGGGGACAGGGGTTGAAGCTTTCTTT;TGTGCCATCGATCCGGGACTACTCACCGGGGAGCTGTTTTTT\\\\\n",
       "\t12 & NA\\_AAAGATGAGTTACGGG-1 & NA & TRAV8-3.TRAJ8.TRAC   & CAVGGDTGFQKLVF   & TGTGCTGTGGGTGGTGACACAGGCTTTCAGAAACTTGTATTT       & TRBV12-4.None.TRBJ1-1.TRBC1                           & CASRNSQATEAFF                  & TGTGCCAGCAGAAACTCCCAAGCCACTGAAGCTTTCTTT                                                  & TRAV8-3.TRAJ8.TRAC\\_TRBV12-4.None.TRBJ1-1.TRBC1                            & TGTGCTGTGGGTGGTGACACAGGCTTTCAGAAACTTGTATTT\\_TGTGCCAGCAGAAACTCCCAAGCCACTGAAGCTTTCTTT                                                        & CAVGGDTGFQKLVF\\_CASRNSQATEAFF                    & TRAV8-3.TRAJ8.TRAC;TGTGCTGTGGGTGGTGACACAGGCTTTCAGAAACTTGTATTT\\_TRBV12-4.None.TRBJ1-1.TRBC1;TGTGCCAGCAGAAACTCCCAAGCCACTGAAGCTTTCTTT                                                                                \\\\\n",
       "\\end{tabular}\n"
      ],
      "text/markdown": [
       "\n",
       "A data.frame: 6 × 12\n",
       "\n",
       "| <!--/--> | barcode &lt;chr&gt; | sample &lt;chr&gt; | TCR1 &lt;chr&gt; | cdr3_aa1 &lt;chr&gt; | cdr3_nt1 &lt;chr&gt; | TCR2 &lt;chr&gt; | cdr3_aa2 &lt;chr&gt; | cdr3_nt2 &lt;chr&gt; | CTgene &lt;chr&gt; | CTnt &lt;chr&gt; | CTaa &lt;chr&gt; | CTstrict &lt;chr&gt; |\n",
       "|---|---|---|---|---|---|---|---|---|---|---|---|---|\n",
       "| 1 | NA_AAACCTGAGGCTCAGA-1 | NA | TRAV26-1.TRAJ37.TRAC | CIVRGGSSNTGKLIF  | TGCATCGTCAGGGGCGGCTCTAGCAACACAGGCAAACTAATCTTT    | TRBV6-1.None.TRBJ2-3.TRBC2                            | CASIGRSFGRDTQYF                | TGTGCCAGTATCGGGAGGTCCTTTGGCCGAGATACGCAGTATTTT                                            | TRAV26-1.TRAJ37.TRAC_TRBV6-1.None.TRBJ2-3.TRBC2                           | TGCATCGTCAGGGGCGGCTCTAGCAACACAGGCAAACTAATCTTT_TGTGCCAGTATCGGGAGGTCCTTTGGCCGAGATACGCAGTATTTT                                               | CIVRGGSSNTGKLIF_CASIGRSFGRDTQYF                 | TRAV26-1.TRAJ37.TRAC;TGCATCGTCAGGGGCGGCTCTAGCAACACAGGCAAACTAATCTTT_TRBV6-1.None.TRBJ2-3.TRBC2;TGTGCCAGTATCGGGAGGTCCTTTGGCCGAGATACGCAGTATTTT                                                                       |\n",
       "| 3 | NA_AAACCTGCATGACATC-1 | NA | TRAV3.TRAJ20.TRAC    | CAVQRSNDYKLSF    | TGTGCTGTGCAACGTTCTAACGACTACAAGCTCAGCTTT          | TRBV3-1.None.TRBJ2-3.TRBC2                            | CASSPPRGGFTDTQYF               | TGTGCCAGCAGCCCCCCCCGCGGCGGATTCACAGATACGCAGTATTTT                                         | TRAV3.TRAJ20.TRAC_TRBV3-1.None.TRBJ2-3.TRBC2                              | TGTGCTGTGCAACGTTCTAACGACTACAAGCTCAGCTTT_TGTGCCAGCAGCCCCCCCCGCGGCGGATTCACAGATACGCAGTATTTT                                                  | CAVQRSNDYKLSF_CASSPPRGGFTDTQYF                  | TRAV3.TRAJ20.TRAC;TGTGCTGTGCAACGTTCTAACGACTACAAGCTCAGCTTT_TRBV3-1.None.TRBJ2-3.TRBC2;TGTGCCAGCAGCCCCCCCCGCGGCGGATTCACAGATACGCAGTATTTT                                                                             |\n",
       "| 5 | NA_AAACCTGGTATGCTTG-1 | NA | TRAV26-1.TRAJ53.TRAC | CIGSSGGSNYKLTF   | TGCATCGGCTCAAGTGGAGGTAGCAACTATAAACTGACATTT       | TRBV4-1.None.TRBJ2-2.TRBC2;TRBV19.None.TRBJ1-5.TRBC1  | CASSQGGQGGRELFF;CASSYAVGRQPQHF | TGCGCCAGCAGCCAAGGTGGACAGGGCGGAAGGGAGCTGTTTTTT;TGTGCCAGTAGCTACGCGGTGGGGAGGCAGCCCCAGCATTTT | TRAV26-1.TRAJ53.TRAC_TRBV4-1.None.TRBJ2-2.TRBC2;TRBV19.None.TRBJ1-5.TRBC1 | TGCATCGGCTCAAGTGGAGGTAGCAACTATAAACTGACATTT_TGCGCCAGCAGCCAAGGTGGACAGGGCGGAAGGGAGCTGTTTTTT;TGTGCCAGTAGCTACGCGGTGGGGAGGCAGCCCCAGCATTTT       | CIGSSGGSNYKLTF_CASSQGGQGGRELFF;CASSYAVGRQPQHF   | TRAV26-1.TRAJ53.TRAC;TGCATCGGCTCAAGTGGAGGTAGCAACTATAAACTGACATTT_TRBV4-1.None.TRBJ2-2.TRBC2;TRBV19.None.TRBJ1-5.TRBC1;TGCGCCAGCAGCCAAGGTGGACAGGGCGGAAGGGAGCTGTTTTTT;TGTGCCAGTAGCTACGCGGTGGGGAGGCAGCCCCAGCATTTT     |\n",
       "| 8 | NA_AAACGGGCAGATGGGT-1 | NA | NA                   | NA               | NA                                               | TRBV5-1.None.TRBJ1-2.TRBC1                            | CASSLRETNYGYTF                 | TGCGCCAGCAGCTTGAGGGAAACCAACTATGGCTACACCTTC                                               | NA_TRBV5-1.None.TRBJ1-2.TRBC1                                             | NA_TGCGCCAGCAGCTTGAGGGAAACCAACTATGGCTACACCTTC                                                                                             | NA_CASSLRETNYGYTF                               | NA;NA_TRBV5-1.None.TRBJ1-2.TRBC1;TGCGCCAGCAGCTTGAGGGAAACCAACTATGGCTACACCTTC                                                                                                                                       |\n",
       "| 9 | NA_AAACGGGTCTTACCGC-1 | NA | TRAV20.TRAJ9.TRAC    | CAVQAKRYTGGFKTIF | TGTGCTGTGCAGGCCAAGCGGTATACTGGAGGCTTCAAAACTATCTTT | TRBV5-1.None.TRBJ1-1.TRBC1;TRBV7-9.None.TRBJ2-2.TRBC2 | CASSLGTGTGVEAFF;CAIDPGLLTGELFF | TGCGCCAGCAGCTTGGGAACGGGGACAGGGGTTGAAGCTTTCTTT;TGTGCCATCGATCCGGGACTACTCACCGGGGAGCTGTTTTTT | TRAV20.TRAJ9.TRAC_TRBV5-1.None.TRBJ1-1.TRBC1;TRBV7-9.None.TRBJ2-2.TRBC2   | TGTGCTGTGCAGGCCAAGCGGTATACTGGAGGCTTCAAAACTATCTTT_TGCGCCAGCAGCTTGGGAACGGGGACAGGGGTTGAAGCTTTCTTT;TGTGCCATCGATCCGGGACTACTCACCGGGGAGCTGTTTTTT | CAVQAKRYTGGFKTIF_CASSLGTGTGVEAFF;CAIDPGLLTGELFF | TRAV20.TRAJ9.TRAC;TGTGCTGTGCAGGCCAAGCGGTATACTGGAGGCTTCAAAACTATCTTT_TRBV5-1.None.TRBJ1-1.TRBC1;TRBV7-9.None.TRBJ2-2.TRBC2;TGCGCCAGCAGCTTGGGAACGGGGACAGGGGTTGAAGCTTTCTTT;TGTGCCATCGATCCGGGACTACTCACCGGGGAGCTGTTTTTT |\n",
       "| 12 | NA_AAAGATGAGTTACGGG-1 | NA | TRAV8-3.TRAJ8.TRAC   | CAVGGDTGFQKLVF   | TGTGCTGTGGGTGGTGACACAGGCTTTCAGAAACTTGTATTT       | TRBV12-4.None.TRBJ1-1.TRBC1                           | CASRNSQATEAFF                  | TGTGCCAGCAGAAACTCCCAAGCCACTGAAGCTTTCTTT                                                  | TRAV8-3.TRAJ8.TRAC_TRBV12-4.None.TRBJ1-1.TRBC1                            | TGTGCTGTGGGTGGTGACACAGGCTTTCAGAAACTTGTATTT_TGTGCCAGCAGAAACTCCCAAGCCACTGAAGCTTTCTTT                                                        | CAVGGDTGFQKLVF_CASRNSQATEAFF                    | TRAV8-3.TRAJ8.TRAC;TGTGCTGTGGGTGGTGACACAGGCTTTCAGAAACTTGTATTT_TRBV12-4.None.TRBJ1-1.TRBC1;TGTGCCAGCAGAAACTCCCAAGCCACTGAAGCTTTCTTT                                                                                 |\n",
       "\n"
      ],
      "text/plain": [
       "   barcode               sample TCR1                 cdr3_aa1        \n",
       "1  NA_AAACCTGAGGCTCAGA-1 NA     TRAV26-1.TRAJ37.TRAC CIVRGGSSNTGKLIF \n",
       "3  NA_AAACCTGCATGACATC-1 NA     TRAV3.TRAJ20.TRAC    CAVQRSNDYKLSF   \n",
       "5  NA_AAACCTGGTATGCTTG-1 NA     TRAV26-1.TRAJ53.TRAC CIGSSGGSNYKLTF  \n",
       "8  NA_AAACGGGCAGATGGGT-1 NA     NA                   NA              \n",
       "9  NA_AAACGGGTCTTACCGC-1 NA     TRAV20.TRAJ9.TRAC    CAVQAKRYTGGFKTIF\n",
       "12 NA_AAAGATGAGTTACGGG-1 NA     TRAV8-3.TRAJ8.TRAC   CAVGGDTGFQKLVF  \n",
       "   cdr3_nt1                                        \n",
       "1  TGCATCGTCAGGGGCGGCTCTAGCAACACAGGCAAACTAATCTTT   \n",
       "3  TGTGCTGTGCAACGTTCTAACGACTACAAGCTCAGCTTT         \n",
       "5  TGCATCGGCTCAAGTGGAGGTAGCAACTATAAACTGACATTT      \n",
       "8  NA                                              \n",
       "9  TGTGCTGTGCAGGCCAAGCGGTATACTGGAGGCTTCAAAACTATCTTT\n",
       "12 TGTGCTGTGGGTGGTGACACAGGCTTTCAGAAACTTGTATTT      \n",
       "   TCR2                                                 \n",
       "1  TRBV6-1.None.TRBJ2-3.TRBC2                           \n",
       "3  TRBV3-1.None.TRBJ2-3.TRBC2                           \n",
       "5  TRBV4-1.None.TRBJ2-2.TRBC2;TRBV19.None.TRBJ1-5.TRBC1 \n",
       "8  TRBV5-1.None.TRBJ1-2.TRBC1                           \n",
       "9  TRBV5-1.None.TRBJ1-1.TRBC1;TRBV7-9.None.TRBJ2-2.TRBC2\n",
       "12 TRBV12-4.None.TRBJ1-1.TRBC1                          \n",
       "   cdr3_aa2                      \n",
       "1  CASIGRSFGRDTQYF               \n",
       "3  CASSPPRGGFTDTQYF              \n",
       "5  CASSQGGQGGRELFF;CASSYAVGRQPQHF\n",
       "8  CASSLRETNYGYTF                \n",
       "9  CASSLGTGTGVEAFF;CAIDPGLLTGELFF\n",
       "12 CASRNSQATEAFF                 \n",
       "   cdr3_nt2                                                                                \n",
       "1  TGTGCCAGTATCGGGAGGTCCTTTGGCCGAGATACGCAGTATTTT                                           \n",
       "3  TGTGCCAGCAGCCCCCCCCGCGGCGGATTCACAGATACGCAGTATTTT                                        \n",
       "5  TGCGCCAGCAGCCAAGGTGGACAGGGCGGAAGGGAGCTGTTTTTT;TGTGCCAGTAGCTACGCGGTGGGGAGGCAGCCCCAGCATTTT\n",
       "8  TGCGCCAGCAGCTTGAGGGAAACCAACTATGGCTACACCTTC                                              \n",
       "9  TGCGCCAGCAGCTTGGGAACGGGGACAGGGGTTGAAGCTTTCTTT;TGTGCCATCGATCCGGGACTACTCACCGGGGAGCTGTTTTTT\n",
       "12 TGTGCCAGCAGAAACTCCCAAGCCACTGAAGCTTTCTTT                                                 \n",
       "   CTgene                                                                   \n",
       "1  TRAV26-1.TRAJ37.TRAC_TRBV6-1.None.TRBJ2-3.TRBC2                          \n",
       "3  TRAV3.TRAJ20.TRAC_TRBV3-1.None.TRBJ2-3.TRBC2                             \n",
       "5  TRAV26-1.TRAJ53.TRAC_TRBV4-1.None.TRBJ2-2.TRBC2;TRBV19.None.TRBJ1-5.TRBC1\n",
       "8  NA_TRBV5-1.None.TRBJ1-2.TRBC1                                            \n",
       "9  TRAV20.TRAJ9.TRAC_TRBV5-1.None.TRBJ1-1.TRBC1;TRBV7-9.None.TRBJ2-2.TRBC2  \n",
       "12 TRAV8-3.TRAJ8.TRAC_TRBV12-4.None.TRBJ1-1.TRBC1                           \n",
       "   CTnt                                                                                                                                     \n",
       "1  TGCATCGTCAGGGGCGGCTCTAGCAACACAGGCAAACTAATCTTT_TGTGCCAGTATCGGGAGGTCCTTTGGCCGAGATACGCAGTATTTT                                              \n",
       "3  TGTGCTGTGCAACGTTCTAACGACTACAAGCTCAGCTTT_TGTGCCAGCAGCCCCCCCCGCGGCGGATTCACAGATACGCAGTATTTT                                                 \n",
       "5  TGCATCGGCTCAAGTGGAGGTAGCAACTATAAACTGACATTT_TGCGCCAGCAGCCAAGGTGGACAGGGCGGAAGGGAGCTGTTTTTT;TGTGCCAGTAGCTACGCGGTGGGGAGGCAGCCCCAGCATTTT      \n",
       "8  NA_TGCGCCAGCAGCTTGAGGGAAACCAACTATGGCTACACCTTC                                                                                            \n",
       "9  TGTGCTGTGCAGGCCAAGCGGTATACTGGAGGCTTCAAAACTATCTTT_TGCGCCAGCAGCTTGGGAACGGGGACAGGGGTTGAAGCTTTCTTT;TGTGCCATCGATCCGGGACTACTCACCGGGGAGCTGTTTTTT\n",
       "12 TGTGCTGTGGGTGGTGACACAGGCTTTCAGAAACTTGTATTT_TGTGCCAGCAGAAACTCCCAAGCCACTGAAGCTTTCTTT                                                       \n",
       "   CTaa                                           \n",
       "1  CIVRGGSSNTGKLIF_CASIGRSFGRDTQYF                \n",
       "3  CAVQRSNDYKLSF_CASSPPRGGFTDTQYF                 \n",
       "5  CIGSSGGSNYKLTF_CASSQGGQGGRELFF;CASSYAVGRQPQHF  \n",
       "8  NA_CASSLRETNYGYTF                              \n",
       "9  CAVQAKRYTGGFKTIF_CASSLGTGTGVEAFF;CAIDPGLLTGELFF\n",
       "12 CAVGGDTGFQKLVF_CASRNSQATEAFF                   \n",
       "   CTstrict                                                                                                                                                                                                         \n",
       "1  TRAV26-1.TRAJ37.TRAC;TGCATCGTCAGGGGCGGCTCTAGCAACACAGGCAAACTAATCTTT_TRBV6-1.None.TRBJ2-3.TRBC2;TGTGCCAGTATCGGGAGGTCCTTTGGCCGAGATACGCAGTATTTT                                                                      \n",
       "3  TRAV3.TRAJ20.TRAC;TGTGCTGTGCAACGTTCTAACGACTACAAGCTCAGCTTT_TRBV3-1.None.TRBJ2-3.TRBC2;TGTGCCAGCAGCCCCCCCCGCGGCGGATTCACAGATACGCAGTATTTT                                                                            \n",
       "5  TRAV26-1.TRAJ53.TRAC;TGCATCGGCTCAAGTGGAGGTAGCAACTATAAACTGACATTT_TRBV4-1.None.TRBJ2-2.TRBC2;TRBV19.None.TRBJ1-5.TRBC1;TGCGCCAGCAGCCAAGGTGGACAGGGCGGAAGGGAGCTGTTTTTT;TGTGCCAGTAGCTACGCGGTGGGGAGGCAGCCCCAGCATTTT    \n",
       "8  NA;NA_TRBV5-1.None.TRBJ1-2.TRBC1;TGCGCCAGCAGCTTGAGGGAAACCAACTATGGCTACACCTTC                                                                                                                                      \n",
       "9  TRAV20.TRAJ9.TRAC;TGTGCTGTGCAGGCCAAGCGGTATACTGGAGGCTTCAAAACTATCTTT_TRBV5-1.None.TRBJ1-1.TRBC1;TRBV7-9.None.TRBJ2-2.TRBC2;TGCGCCAGCAGCTTGGGAACGGGGACAGGGGTTGAAGCTTTCTTT;TGTGCCATCGATCCGGGACTACTCACCGGGGAGCTGTTTTTT\n",
       "12 TRAV8-3.TRAJ8.TRAC;TGTGCTGTGGGTGGTGACACAGGCTTTCAGAAACTTGTATTT_TRBV12-4.None.TRBJ1-1.TRBC1;TGTGCCAGCAGAAACTCCCAAGCCACTGAAGCTTTCTTT                                                                                "
      ]
     },
     "metadata": {},
     "output_type": "display_data"
    }
   ],
   "source": [
    "subset2 <- combined_tcr[c(3,4)]\n",
    "head(subset2[[1]])"
   ]
  },
  {
   "cell_type": "code",
   "execution_count": 9,
   "metadata": {
    "vscode": {
     "languageId": "r"
    }
   },
   "outputs": [
    {
     "ename": "ERROR",
     "evalue": "Error in parse(text = x, srcfile = src): <text>:5:0: unexpected end of input\n3:              dir = \"/workspaces/ATAi/test/TCR_BCR_seq/Sample1/\",\n4:              file.name = \"clones.csv\"\n  ^\n",
     "output_type": "error",
     "traceback": [
      "Error in parse(text = x, srcfile = src): <text>:5:0: unexpected end of input\n3:              dir = \"/workspaces/ATAi/test/TCR_BCR_seq/Sample1/\",\n4:              file.name = \"clones.csv\"\n  ^\nTraceback:\n"
     ]
    }
   ],
   "source": [
    "exportClones(combined_tcr, \n",
    "             write.file = TRUE,\n",
    "             dir = \"/workspaces/ATAi/test/TCR_BCR_seq/Sample1/\",\n",
    "             file.name = \"clones.csv\""
   ]
  },
  {
   "cell_type": "code",
   "execution_count": null,
   "metadata": {
    "vscode": {
     "languageId": "r"
    }
   },
   "outputs": [],
   "source": []
  }
 ],
 "metadata": {
  "kernelspec": {
   "display_name": "R",
   "language": "R",
   "name": "ir"
  },
  "language_info": {
   "codemirror_mode": "r",
   "file_extension": ".r",
   "mimetype": "text/x-r-source",
   "name": "R",
   "pygments_lexer": "r",
   "version": "4.3.3"
  }
 },
 "nbformat": 4,
 "nbformat_minor": 2
}
