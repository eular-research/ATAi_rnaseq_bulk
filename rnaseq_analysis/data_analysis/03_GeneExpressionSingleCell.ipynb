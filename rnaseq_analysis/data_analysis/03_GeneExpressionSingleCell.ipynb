{
 "cells": [
  {
   "cell_type": "code",
   "execution_count": 1,
   "metadata": {},
   "outputs": [
    {
     "ename": "ModuleNotFoundError",
     "evalue": "No module named 'pandas'",
     "output_type": "error",
     "traceback": [
      "\u001b[0;31m---------------------------------------------------------------------------\u001b[0m",
      "\u001b[0;31mModuleNotFoundError\u001b[0m                       Traceback (most recent call last)",
      "Cell \u001b[0;32mIn[1], line 1\u001b[0m\n\u001b[0;32m----> 1\u001b[0m \u001b[38;5;28;01mimport\u001b[39;00m \u001b[38;5;21;01mpandas\u001b[39;00m \u001b[38;5;28;01mas\u001b[39;00m \u001b[38;5;21;01mpd\u001b[39;00m\n\u001b[1;32m      2\u001b[0m \u001b[38;5;28;01mimport\u001b[39;00m \u001b[38;5;21;01mscanpy\u001b[39;00m \u001b[38;5;28;01mas\u001b[39;00m \u001b[38;5;21;01msc\u001b[39;00m\n\u001b[1;32m      3\u001b[0m \u001b[38;5;28;01mfrom\u001b[39;00m \u001b[38;5;21;01manndata\u001b[39;00m \u001b[38;5;28;01mimport\u001b[39;00m AnnData\n",
      "\u001b[0;31mModuleNotFoundError\u001b[0m: No module named 'pandas'"
     ]
    }
   ],
   "source": [
    "import pandas as pd\n",
    "import scanpy as sc\n",
    "from anndata import AnnData\n"
   ]
  },
  {
   "cell_type": "code",
   "execution_count": null,
   "metadata": {},
   "outputs": [],
   "source": [
    "\n",
    "# Create expression matrix\n",
    "expression_data = {\n",
    "    'Gene': ['GeneA', 'GeneB', 'GeneC', 'GeneD'],\n",
    "    'Cell1': [5, 0, 3, 2],\n",
    "    'Cell2': [3, 2, 0, 1],\n",
    "    'Cell3': [0, 1, 4, 0]\n",
    "}\n",
    "expression_matrix = pd.DataFrame(expression_data).set_index('Gene')\n",
    "expression_matrix.to_csv('expression_matrix.csv')\n",
    "\n",
    "# Create cell metadata\n",
    "cell_metadata_data = {\n",
    "    'Cell': ['Cell1', 'Cell2', 'Cell3'],\n",
    "    'Type': ['TypeA', 'TypeB', 'TypeA'],\n",
    "    'Condition': ['Treated', 'Control', 'Control']\n",
    "}\n",
    "cell_metadata = pd.DataFrame(cell_metadata_data).set_index('Cell')\n",
    "cell_metadata.to_csv('cell_metadata.csv')\n",
    "\n",
    "# Create gene metadata\n",
    "gene_metadata_data = {\n",
    "    'Gene': ['GeneA', 'GeneB', 'GeneC', 'GeneD'],\n",
    "    'Description': ['DescriptionA', 'DescriptionB', 'DescriptionC', 'DescriptionD']\n",
    "}\n",
    "gene_metadata = pd.DataFrame(gene_metadata_data).set_index('Gene')\n",
    "gene_metadata.to_csv('gene_metadata.csv')\n",
    "\n",
    "print(\"Files created: expression_matrix.csv, cell_metadata.csv, gene_metadata.csv\")\n"
   ]
  },
  {
   "cell_type": "code",
   "execution_count": null,
   "metadata": {},
   "outputs": [],
   "source": [
    "\n",
    "# Load your data if you have \n",
    "expression_matrix = pd.read_csv('expression_matrix.csv', index_col=0)\n",
    "cell_metadata = pd.read_csv('cell_metadata.csv', index_col=0)\n",
    "gene_metadata = pd.read_csv('gene_metadata.csv', index_col=0)"
   ]
  },
  {
   "cell_type": "code",
   "execution_count": null,
   "metadata": {},
   "outputs": [],
   "source": [
    "\n",
    "\n",
    "# Create an AnnData object\n",
    "adata = AnnData(X=expression_matrix.values, obs=cell_metadata, var=gene_metadata)\n",
    "\n",
    "# Save the AnnData object to an .h5ad file\n",
    "adata.write('your_data_file.h5ad')\n"
   ]
  }
 ],
 "metadata": {
  "kernelspec": {
   "display_name": "merged_env",
   "language": "python",
   "name": "python3"
  },
  "language_info": {
   "codemirror_mode": {
    "name": "ipython",
    "version": 3
   },
   "file_extension": ".py",
   "mimetype": "text/x-python",
   "name": "python",
   "nbconvert_exporter": "python",
   "pygments_lexer": "ipython3",
   "version": "3.11.9"
  }
 },
 "nbformat": 4,
 "nbformat_minor": 2
}
