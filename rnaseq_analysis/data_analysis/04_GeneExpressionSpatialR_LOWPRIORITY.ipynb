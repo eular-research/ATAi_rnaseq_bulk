{
 "cells": [
  {
   "cell_type": "markdown",
   "metadata": {},
   "source": [
    "### UNDER CONSTRUCTION!!! ### \n",
    "\n",
    "Analysis of Image-based Spatial Data in Seurat\n",
    "\n",
    "https://github.com/sib-swiss/spatial-transcriptomics-training/tree/a84580800678e41f225fa442ae008a3552015035/scripts\n",
    "https://satijalab.org/seurat/articles/spatial_vignette\n",
    "\n",
    "\n",
    "\n",
    "Here’s a concise summary of the key advantages of **spatial RNA-seq**:\n",
    "- **Preserves Spatial Context**: Retains the spatial arrangement of cells within tissues, crucial for studying tissue architecture.\n",
    "- **Maps Tissue Heterogeneity**: Identifies diverse cell types in their native environments, revealing tissue organization.\n",
    "- **Analyzes Cell-Cell Interactions**: Enables the study of interactions between neighboring cells, aiding research in development and disease.\n",
    "- **Tracks Disease Impact**: Provides insights into how diseases affect specific regions, such as tumor microenvironments.\n",
    "- **Uncovers Rare Cell Types**: Pinpoints rare cell populations in heterogeneous tissues.\n",
    "- **Reveals Gene Expression Gradients**: Maps dynamic gradients, crucial in developmental and disease processes.\n",
    "- **Integrates with Histology and Proteomics**: Merges molecular data with tissue structure and protein expression for deeper insights.\n",
    "- **Supports Personalized Medicine**: Refines biomarker discovery for targeted therapies, especially in cancer.\n",
    "\n",
    "This list highlights the primary advantages in a more compact form.\n"
   ]
  },
  {
   "cell_type": "code",
   "execution_count": 4,
   "metadata": {
    "vscode": {
     "languageId": "r"
    }
   },
   "outputs": [
    {
     "ename": "ERROR",
     "evalue": "Error in library(SeuratData): there is no package called ‘SeuratData’\n",
     "output_type": "error",
     "traceback": [
      "Error in library(SeuratData): there is no package called ‘SeuratData’\nTraceback:\n",
      "1. library(SeuratData)"
     ]
    }
   ],
   "source": [
    "library(Seurat)\n",
    "library(SeuratData)\n",
    "library(ggplot2)\n",
    "library(patchwork)\n",
    "library(dplyr)"
   ]
  },
  {
   "cell_type": "code",
   "execution_count": 3,
   "metadata": {
    "vscode": {
     "languageId": "r"
    }
   },
   "outputs": [
    {
     "ename": "ERROR",
     "evalue": "Error in ReadVizgen(data.dir = data.dir, filter = \"^Blank-\", type = c(\"centroids\", : Cannot find Vizgen directory /brahms/hartmana/vignette_data/vizgen/s2r1/\n",
     "output_type": "error",
     "traceback": [
      "Error in ReadVizgen(data.dir = data.dir, filter = \"^Blank-\", type = c(\"centroids\", : Cannot find Vizgen directory /brahms/hartmana/vignette_data/vizgen/s2r1/\nTraceback:\n",
      "1. LoadVizgen(data.dir = \"/brahms/hartmana/vignette_data/vizgen/s2r1/\", \n .     fov = \"s2r1\")",
      "2. ReadVizgen(data.dir = data.dir, filter = \"^Blank-\", type = c(\"centroids\", \n .     \"segmentations\"), z = z)",
      "3. stop(\"Cannot find Vizgen directory \", data.dir)"
     ]
    }
   ],
   "source": [
    "# Loading segmentations is a slow process and multi processing with the future pacakge is\n",
    "# recommended\n",
    "vizgen.obj <- LoadVizgen(data.dir = \"/brahms/hartmana/vignette_data/vizgen/s2r1/\", fov = \"s2r1\")"
   ]
  },
  {
   "cell_type": "code",
   "execution_count": null,
   "metadata": {
    "vscode": {
     "languageId": "r"
    }
   },
   "outputs": [],
   "source": []
  },
  {
   "cell_type": "code",
   "execution_count": null,
   "metadata": {
    "vscode": {
     "languageId": "r"
    }
   },
   "outputs": [],
   "source": []
  }
 ],
 "metadata": {
  "kernelspec": {
   "display_name": "R",
   "language": "R",
   "name": "ir"
  },
  "language_info": {
   "codemirror_mode": "r",
   "file_extension": ".r",
   "mimetype": "text/x-r-source",
   "name": "R",
   "pygments_lexer": "r",
   "version": "4.3.3"
  }
 },
 "nbformat": 4,
 "nbformat_minor": 2
}
